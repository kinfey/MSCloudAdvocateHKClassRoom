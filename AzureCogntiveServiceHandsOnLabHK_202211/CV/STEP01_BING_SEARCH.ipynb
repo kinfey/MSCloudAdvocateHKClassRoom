{
  "cells": [
    {
      "cell_type": "code",
      "source": [
        "from requests import exceptions\r\n",
        "import requests\r\n",
        "import cv2\r\n",
        "import os\r\n",
        "import gevent"
      ],
      "outputs": [],
      "execution_count": 1,
      "metadata": {
        "gather": {
          "logged": 1652234371555
        }
      }
    },
    {
      "cell_type": "code",
      "source": [
        "searchengine = 'r2d2'\r\n",
        "output = 'download/r2d2'"
      ],
      "outputs": [],
      "execution_count": 2,
      "metadata": {
        "gather": {
          "logged": 1652234371609
        }
      }
    },
    {
      "cell_type": "code",
      "source": [
        "API_KEY = \"034200e7647f4157aadee9ebd49fcbe6\"\r\n",
        "MAX_RESULTS = 50\r\n",
        "GROUP_SIZE = 250"
      ],
      "outputs": [],
      "execution_count": 3,
      "metadata": {
        "gather": {
          "logged": 1652234371660
        }
      }
    },
    {
      "cell_type": "code",
      "source": [
        "URL = \"https://api.bing.microsoft.com/v7.0/images/search\"\r\n",
        "       \r\n",
        "\r\n",
        "\r\n",
        "EXCEPTIONS = {IOError, FileNotFoundError, exceptions.RequestException, exceptions.HTTPError, exceptions.ConnectionError,\r\n",
        "              exceptions.Timeout}"
      ],
      "outputs": [],
      "execution_count": 4,
      "metadata": {
        "gather": {
          "logged": 1652234371703
        }
      }
    },
    {
      "cell_type": "code",
      "source": [
        "term = searchengine\r\n",
        "headers = {\"Ocp-Apim-Subscription-Key\": API_KEY}\r\n",
        "params = {\"q\": term, \"offset\": 0, \"count\": GROUP_SIZE}"
      ],
      "outputs": [],
      "execution_count": 5,
      "metadata": {
        "gather": {
          "logged": 1652234371757
        }
      }
    },
    {
      "cell_type": "code",
      "source": [
        "print(\"[INFO] searching Bing API for '{}'\".format(term))\r\n",
        "search = requests.get(URL, headers=headers, params=params)\r\n",
        "search.raise_for_status()"
      ],
      "outputs": [
        {
          "output_type": "stream",
          "name": "stdout",
          "text": "[INFO] searching Bing API for 'r2d2'\n"
        }
      ],
      "execution_count": 6,
      "metadata": {
        "gather": {
          "logged": 1652234372266
        }
      }
    },
    {
      "cell_type": "code",
      "source": [
        "total = 0\r\n",
        "results = search.json()\r\n",
        "estNumResults = min(results[\"totalEstimatedMatches\"], MAX_RESULTS)\r\n",
        "print(\"[INFO] {} total results for '{}'\".format(estNumResults, term))"
      ],
      "outputs": [
        {
          "output_type": "stream",
          "name": "stdout",
          "text": "[INFO] 50 total results for 'r2d2'\n"
        }
      ],
      "execution_count": 7,
      "metadata": {
        "gather": {
          "logged": 1652234372311
        }
      }
    },
    {
      "cell_type": "code",
      "source": [
        "def grab_page(url, ext, total):\r\n",
        "\r\n",
        "    try:\r\n",
        "        print(\"[INFO] fetching: {}\".format(url))\r\n",
        "        r = requests.get(url, timeout=30)\r\n",
        "        p = os.path.sep.join([output, \"{}{}\".format(\r\n",
        "            str(total).zfill(8), ext)])\r\n",
        "\r\n",
        "        f = open(p, \"wb\")\r\n",
        "        f.write(r.content)\r\n",
        "        f.close()\r\n",
        "\r\n",
        "        image = cv2.imread(p)\r\n",
        "\r\n",
        "        if image is None:\r\n",
        "            print(\"[INFO] deleting: {}\".format(p))\r\n",
        "            os.remove(p)\r\n",
        "            return\r\n",
        "\r\n",
        "    except Exception as e:\r\n",
        "        if type(e) in EXCEPTIONS:\r\n",
        "            print(\"[INFO] skipping: {}\".format(url))\r\n",
        "            return"
      ],
      "outputs": [],
      "execution_count": 8,
      "metadata": {
        "gather": {
          "logged": 1652234372368
        }
      }
    },
    {
      "cell_type": "code",
      "source": [
        "for offset in range(0, estNumResults, GROUP_SIZE):\r\n",
        "    print(\"[INFO] making request for group {}-{} of {}...\".format(\r\n",
        "        offset, offset + GROUP_SIZE, estNumResults))\r\n",
        "    params[\"offset\"] = offset\r\n",
        "    search = requests.get(URL, headers=headers, params=params)\r\n",
        "    search.raise_for_status()\r\n",
        "    results = search.json()\r\n",
        "    print(\"[INFO] saving images for group {}-{} of {}...\".format(\r\n",
        "        offset, offset + GROUP_SIZE, estNumResults))\r\n",
        "    jobs = []\r\n",
        "    for v in results[\"value\"]:\r\n",
        "        total += 1\r\n",
        "        ext = v[\"contentUrl\"][v[\"contentUrl\"].rfind(\".\"):]\r\n",
        "        url = v[\"contentUrl\"]\r\n",
        "        \r\n",
        "        jobs.append(gevent.spawn(grab_page, url, ext, total))\r\n",
        "\r\n",
        "    gevent.joinall(jobs, timeout=10)\r\n",
        "    print(total)"
      ],
      "outputs": [
        {
          "output_type": "stream",
          "name": "stdout",
          "text": "[INFO] making request for group 0-250 of 50...\n[INFO] saving images for group 0-250 of 50...\n[INFO] fetching: https://img1.cgtrader.com/items/797358/51b7673c0f/r2d2-star-wars-3d-model-obj-ztl.png\n[INFO] fetching: https://vignette.wikia.nocookie.net/disney/images/0/05/ForceAwakensR2-D2Fathead.png/revision/latest/scale-to-width-down/2000?cb=20160207021436\n[INFO] skipping: https://vignette.wikia.nocookie.net/disney/images/0/05/ForceAwakensR2-D2Fathead.png/revision/latest/scale-to-width-down/2000?cb=20160207021436\n[INFO] fetching: https://img-new.cgtrader.com/items/27610/r2d2_star_wars_droid_robot_3d_model_3ds_fbx_c4d_lwo_lw_lws_obj_max__cf59dc7f-6bc6-4646-8cf7-334c1504921a.jpg\n[INFO] fetching: https://fthmb.tqn.com/eeLON8lcmgEdkEFpKzTsHLmFpf4=/793x800/filters:fill(auto,1)/R2D2_MCH-IA-324_R_8x10-56a839a65f9b58b7d0f1a855.jpg\n[INFO] fetching: https://3riverscomicon.com/wp-content/uploads/2016/03/r2d2.png\n[INFO] fetching: https://content.instructables.com/ORIG/F3X/W92I/H2WESV25/F3XW92IH2WESV25.jpg?frame=1&width=2100\n[INFO] fetching: https://yt3.ggpht.com/a/AATXAJyQmT0SFhA7U4HGFfbNZfK6DFehUD_JQXS30w=s900-c-k-c0xffffffff-no-rj-mo\n[INFO] skipping: https://yt3.ggpht.com/a/AATXAJyQmT0SFhA7U4HGFfbNZfK6DFehUD_JQXS30w=s900-c-k-c0xffffffff-no-rj-mo\n[INFO] fetching: http://www.amjstaffing.com/wp-content/uploads/2018/11/181102-AMJ-Staffing-800px-Star_Wars_and_the_Power_of_Costume_July_2018_19_R2-D2_costume_from_Episode_IV.jpg\n[INFO] deleting: download/r2d2/00000008.jpg\n[INFO] fetching: http://www.anillusion.de/wp-content/uploads/2015/05/018_R2D2.jpg\n[INFO] fetching: https://img-new.cgtrader.com/items/2408805/a034138ab1/star-wars-r2d2-detailed-printable-360-deg-rotating-openable-head-3d-model-stl-pdf.jpg\n[INFO] fetching: https://a.1stdibscdn.com/r2d2-life-size-model-sculpture-star-wars-for-sale-picture-6/f_14282/1556547097614/Sans_titre_6_master.jpg?width=768\n[INFO] fetching: https://img00.deviantart.net/6d43/i/2017/007/0/1/r2d2_by_fdledesigns-daulr15.jpg\n[INFO] fetching: https://yt3.ggpht.com/a/AATXAJzWAj1A_W4PraYx4BXjmcRU6p_vg4PrZVboBw=s900-c-k-c0xffffffff-no-rj-mo\n[INFO] skipping: https://yt3.ggpht.com/a/AATXAJzWAj1A_W4PraYx4BXjmcRU6p_vg4PrZVboBw=s900-c-k-c0xffffffff-no-rj-mo\n[INFO] fetching: http://www.theoldrobots.com/images12/r2d2d.JPG\n[INFO] fetching: https://wallpapercave.com/wp/wp1915716.jpg\n[INFO] fetching: https://a.1stdibscdn.com/r2d2-life-size-model-sculpture-star-wars-for-sale-picture-2/f_14282/f_145374121556547126676/Sans_titre_1_master.jpg?width=768\n[INFO] fetching: https://cdn.amebaowndme.com/madrid-prd/madrid-web/images/sites/144614/ac88c0f3535128700bb2e670d798ce75_25c6df1b6182f1e93513b264ff2debc4.jpg\n[INFO] fetching: https://www.shapeways.com/blog/wp-content/uploads/2017/09/IMG_2753.jpg\n[INFO] fetching: https://squir.com/media/catalog/product/cache/1/image/9df78eab33525d08d6e5fb8d27136e95/r/2/r2d2_-0002.jpg\n[INFO] fetching: https://www.source-data.com/wp-content/uploads/2016/12/R2D2.jpg\n[INFO] deleting: download/r2d2/00000020.jpg\n[INFO] fetching: https://hniesfp.imgix.net/8/images/detailed/106/R201ROW.jpg?fit=fill&bg=0FFF&w=1500&h=1000&auto=format,compress\n[INFO] fetching: https://clipground.com/images/r2d2-png-3.jpg\n[INFO] fetching: https://linustechtips.com/uploads/monthly_2021_06/20210217_143631.jpg.4d6145456e6eeea14ca5635885ee29ba.jpg\n[INFO] fetching: https://content.assets.pressassociation.io/2017/06/28213933/R2D2-side-.jpg\n[INFO] fetching: https://i.postimg.cc/0540nMHY/01.png\n[INFO] fetching: https://www.rxwallpaper.site/wp-content/uploads/r2-d2-wallpaper-star-wars-wallpaper-pinterest-r2-d2-and-star-800x800.jpg\n[INFO] fetching: https://resources.claroshop.com/imagenes-sanborns-ii/1200/817961020257.jpg\n[INFO] fetching: https://synthiam.com/uploads/user/0DFCCE58577A56966E5DBC5374319EAF/IMG_20180716_221707958-636679399012126869.jpg\n[INFO] fetching: http://dl36mmdz94630.cloudfront.net/uploads/assets/images/000/029/556/large/front.jpg?1430860400\n[INFO] fetching: https://cdna.artstation.com/p/assets/images/images/001/576/534/medium/paul-wiz-johnson-img-5460.jpg?1448889980\n[INFO] fetching: https://i1.wp.com/i.pinimg.com/originals/3e/1c/93/3e1c937812492a719b2ca6aa884129f8.jpg?ssl=1\n[INFO] fetching: https://cdn.instructables.com/ORIG/F0E/RGIA/H4VQRG0J/F0ERGIAH4VQRG0J.jpg\n[INFO] fetching: http://www.theoldrobots.com/images12/r2d2b.JPG\n[INFO] fetching: https://daviseventgroup.com/wp-content/uploads/2019/09/R2D2-so-cute.jpg\n[INFO] deleting: download/r2d2/00000034.jpg\n[INFO] fetching: http://www.theoldrobots.com/images11/R2-D2-14-14.JPG\n[INFO] fetching: https://img1.cgtrader.com/items/966886/47afba4da3/robot-r2d2-3d-model-max-obj-mtl-fbx.jpg\n[INFO] fetching: https://vignette.wikia.nocookie.net/starwars/images/1/1a/R2d2.jpg/revision/latest?cb=20090524204255\n[INFO] skipping: https://vignette.wikia.nocookie.net/starwars/images/1/1a/R2d2.jpg/revision/latest?cb=20090524204255\n[INFO] fetching: https://pre00.deviantart.net/395f/th/pre/i/2016/312/c/3/r2d2__2016__colours_by_steveandrew-danprzg.jpg\n[INFO] fetching: http://getwallpapers.com/wallpaper/full/c/6/0/71746.jpg\n[INFO] fetching: https://i0.wp.com/www.gadgetsandgizmos.org/wp-content/uploads/2011/04/P1050388.jpg\n[INFO] fetching: https://ichef-1.bbci.co.uk/news/1024/media/images/71228000/jpg/_71228342_r2d2_getty.jpg\n[INFO] fetching: http://www.theoldrobots.com/images12/r2d2e.JPG\n[INFO] fetching: https://pre00.deviantart.net/7689/th/pre/i/2017/290/a/d/r2d2_vector_by_spiritofbattle-dbqwfg2.png\n[INFO] fetching: http://www.theoldrobots.com/images11/R2-D2-14-8.JPG\n[INFO] fetching: https://i.pinimg.com/736x/96/d2/59/96d2599dd0bf6327b22fc41f2e31cc75--rd-costume-halloween-costumes.jpg\n[INFO] fetching: http://www.theoldrobots.com/images11/R2-D2-7-q9.JPG\n[INFO] fetching: https://i5.walmartimages.com/asr/6aafa2ad-190c-466c-a849-e4f28a31ca29_1.2441d07a504404de2fdbdcc9a004bb17.jpeg\n[INFO] fetching: https://streamingthemagic.com/wp-content/uploads/2019/05/r2-d2-deluxe_star-wars_feature.jpg\n[INFO] fetching: http://preview.turbosquid.com/Preview/2015/11/13__13_36_45/thumbnail.png35b4cfc1-a616-4a25-bf22-e90c9c3136c3Original.jpg\n[INFO] fetching: https://i.pinimg.com/originals/80/56/35/80563505e3b8f30cf17271cd6403a7e1.jpg\n150\n"
        }
      ],
      "execution_count": 9,
      "metadata": {
        "gather": {
          "logged": 1652234405035
        }
      }
    }
  ],
  "metadata": {
    "orig_nbformat": 4,
    "language_info": {
      "name": "python",
      "version": "3.8.5",
      "mimetype": "text/x-python",
      "codemirror_mode": {
        "name": "ipython",
        "version": 3
      },
      "pygments_lexer": "ipython3",
      "nbconvert_exporter": "python",
      "file_extension": ".py"
    },
    "kernelspec": {
      "name": "python38-azureml",
      "language": "python",
      "display_name": "Python 3.8 - AzureML"
    },
    "interpreter": {
      "hash": "cd6c2d5b6def59a78dd4f60b7bebd73224da0fafd12459c3daf7ca8dc9395e3f"
    },
    "kernel_info": {
      "name": "python38-azureml"
    },
    "nteract": {
      "version": "nteract-front-end@1.0.0"
    }
  },
  "nbformat": 4,
  "nbformat_minor": 2
}