{
  "cells": [
    {
      "cell_type": "code",
      "execution_count": 1,
      "metadata": {},
      "outputs": [],
      "source": [
        "%matplotlib inline"
      ]
    },
    {
      "cell_type": "markdown",
      "metadata": {},
      "source": [
        "## 處理數據\n",
        "PyTorch 有兩個[處理數據的方式](https://pytorch.org/docs/stable/data.html)：“torch.utils.data.DataLoader”和“torch.utils.data.Dataset” `. ``Dataset`` 存儲樣本及其相應的標籤，``DataLoader`` 圍繞 ``Dataset`` 包裝一個可迭代對象。\n",
        "\n"
      ]
    },
    {
      "cell_type": "code",
      "execution_count": 2,
      "metadata": {},
      "outputs": [],
      "source": [
        "import torch\n",
        "from torch import nn\n",
        "from torch.utils.data import DataLoader\n",
        "from torchvision import datasets\n",
        "from torchvision.transforms import ToTensor, Lambda, Compose\n",
        "import matplotlib.pyplot as plt"
      ]
    },
    {
      "cell_type": "markdown",
      "metadata": {},
      "source": [
        "PyTorch 提供特定領域的庫，例如 [TorchText](https://pytorch.org/text/stable/index.html)、[TorchVision](https://pytorch.org/vision/stable/index.html)、 和 [TorchAudio](https://pytorch.org/audio/stable/index.html)，所有這些都包含數據集。在本教程中，我們將使用 TorchVision 數據集。\n",
        "\n",
        "``torchvision.datasets`` 模塊包含許多真實世界視覺數據的 ``Dataset`` 對象，例如 CIFAR、COCO（[完整列表在這裡]（https://pytorch.org/docs/stable/torchvision/datasets. html))。在本教程中，我們將使用 **FashionMNIST** 數據集。每個 TorchVision ``Dataset`` 包括兩個參數：``transform`` 和 ``target_transform`` 分別用於修改樣本和標籤。\n",
        "\n"
      ]
    },
    {
      "cell_type": "code",
      "execution_count": 3,
      "metadata": {},
      "outputs": [
        {
          "name": "stdout",
          "output_type": "stream",
          "text": [
            "Downloading http://fashion-mnist.s3-website.eu-central-1.amazonaws.com/train-images-idx3-ubyte.gz to data/FashionMNIST/raw/train-images-idx3-ubyte.gz\n"
          ]
        },
        {
          "name": "stderr",
          "output_type": "stream",
          "text": [
            "100.0%"
          ]
        },
        {
          "name": "stdout",
          "output_type": "stream",
          "text": [
            "Extracting data/FashionMNIST/raw/train-images-idx3-ubyte.gz to data/FashionMNIST/raw\n",
            "Downloading http://fashion-mnist.s3-website.eu-central-1.amazonaws.com/train-labels-idx1-ubyte.gz to data/FashionMNIST/raw/train-labels-idx1-ubyte.gz\n"
          ]
        },
        {
          "name": "stderr",
          "output_type": "stream",
          "text": [
            "111.0%"
          ]
        },
        {
          "name": "stdout",
          "output_type": "stream",
          "text": [
            "Extracting data/FashionMNIST/raw/train-labels-idx1-ubyte.gz to data/FashionMNIST/raw\n",
            "Downloading http://fashion-mnist.s3-website.eu-central-1.amazonaws.com/t10k-images-idx3-ubyte.gz to data/FashionMNIST/raw/t10k-images-idx3-ubyte.gz\n"
          ]
        },
        {
          "name": "stderr",
          "output_type": "stream",
          "text": [
            "100.0%"
          ]
        },
        {
          "name": "stdout",
          "output_type": "stream",
          "text": [
            "Extracting data/FashionMNIST/raw/t10k-images-idx3-ubyte.gz to data/FashionMNIST/raw\n",
            "Downloading http://fashion-mnist.s3-website.eu-central-1.amazonaws.com/t10k-labels-idx1-ubyte.gz to data/FashionMNIST/raw/t10k-labels-idx1-ubyte.gz\n"
          ]
        },
        {
          "name": "stderr",
          "output_type": "stream",
          "text": [
            "159.1%"
          ]
        },
        {
          "name": "stdout",
          "output_type": "stream",
          "text": [
            "Extracting data/FashionMNIST/raw/t10k-labels-idx1-ubyte.gz to data/FashionMNIST/raw\n",
            "Processing...\n",
            "Done!\n"
          ]
        }
      ],
      "source": [
        "# Download training data from open datasets.\n",
        "training_data = datasets.FashionMNIST(\n",
        "    root=\"data\",\n",
        "    train=True,\n",
        "    download=True,\n",
        "    transform=ToTensor(),\n",
        ")\n",
        "\n",
        "# Download test data from open datasets.\n",
        "test_data = datasets.FashionMNIST(\n",
        "    root=\"data\",\n",
        "    train=False,\n",
        "    download=True,\n",
        "    transform=ToTensor(),\n",
        ")"
      ]
    },
    {
      "cell_type": "markdown",
      "metadata": {},
      "source": [
        "我們將“Dataset”作為參數傳遞給“DataLoader”。這在我們的數據集上包裝了一個迭代，並支持自動批處理、採樣、混洗和多進程數據加載。這裡我們定義了 64 的批量大小，即數據加載器迭代中的每個元素將返回一批 64 個特徵和標籤。\n",
        "\n"
      ]
    },
    {
      "cell_type": "code",
      "execution_count": 4,
      "metadata": {},
      "outputs": [
        {
          "name": "stdout",
          "output_type": "stream",
          "text": [
            "Shape of X [N, C, H, W]:  torch.Size([64, 1, 28, 28])\n",
            "Shape of y:  torch.Size([64]) torch.int64\n"
          ]
        }
      ],
      "source": [
        "batch_size = 64\n",
        "\n",
        "# Create data loaders.\n",
        "train_dataloader = DataLoader(training_data, batch_size=batch_size)\n",
        "test_dataloader = DataLoader(test_data, batch_size=batch_size)\n",
        "\n",
        "for X, y in test_dataloader:\n",
        "    print(\"Shape of X [N, C, H, W]: \", X.shape)\n",
        "    print(\"Shape of y: \", y.shape, y.dtype)\n",
        "    break"
      ]
    },
    {
      "cell_type": "markdown",
      "metadata": {},
      "source": [
        "## 創建模型\n",
        "為了在 PyTorch 中定義神經網絡，我們創建了一個繼承自 [nn.Module](https://pytorch.org/docs/stable/generated/torch.nn.Module.html) 的類。我們在 __init__ 函數中定義網絡層，並在 forward 函數中指定數據如何通過網絡。為了加速神經網絡中的操作，我們將其移至 GPU（如果可用）。\n",
        "\n"
      ]
    },
    {
      "cell_type": "code",
      "execution_count": 5,
      "metadata": {},
      "outputs": [
        {
          "name": "stdout",
          "output_type": "stream",
          "text": [
            "Using cpu device\n",
            "NeuralNetwork(\n",
            "  (flatten): Flatten()\n",
            "  (linear_relu_stack): Sequential(\n",
            "    (0): Linear(in_features=784, out_features=512, bias=True)\n",
            "    (1): ReLU()\n",
            "    (2): Linear(in_features=512, out_features=512, bias=True)\n",
            "    (3): ReLU()\n",
            "    (4): Linear(in_features=512, out_features=10, bias=True)\n",
            "    (5): ReLU()\n",
            "  )\n",
            ")\n"
          ]
        }
      ],
      "source": [
        "# Get cpu or gpu device for training.\n",
        "device = \"cuda\" if torch.cuda.is_available() else \"cpu\"\n",
        "print(\"Using {} device\".format(device))\n",
        "\n",
        "# Define model\n",
        "class NeuralNetwork(nn.Module):\n",
        "    def __init__(self):\n",
        "        super(NeuralNetwork, self).__init__()\n",
        "        self.flatten = nn.Flatten()\n",
        "        self.linear_relu_stack = nn.Sequential(\n",
        "            nn.Linear(28*28, 512),\n",
        "            nn.ReLU(),\n",
        "            nn.Linear(512, 512),\n",
        "            nn.ReLU(),\n",
        "            nn.Linear(512, 10),\n",
        "            nn.ReLU()\n",
        "        )\n",
        "\n",
        "    def forward(self, x):\n",
        "        x = self.flatten(x)\n",
        "        logits = self.linear_relu_stack(x)\n",
        "        return logits\n",
        "\n",
        "model = NeuralNetwork().to(device)\n",
        "print(model)"
      ]
    },
    {
      "cell_type": "markdown",
      "metadata": {},
      "source": [
        "## 優化模型參數\n",
        "為了訓練模型，我們需要一個[損失函數](https://pytorch.org/docs/stable/nn.html#loss-functions>)和一個[優化器](https://pytorch.org/docs/stable/optim.html）。\n",
        "\n"
      ]
    },
    {
      "cell_type": "code",
      "execution_count": 6,
      "metadata": {},
      "outputs": [],
      "source": [
        "loss_fn = nn.CrossEntropyLoss()\n",
        "learning_rate = 1e-3\n",
        "optimizer = torch.optim.SGD(model.parameters(), lr=learning_rate)"
      ]
    },
    {
      "cell_type": "markdown",
      "metadata": {},
      "source": [
        "在單個訓練循環中，模型對訓練數據集進行預測（分批提供給它），並反向傳播預測誤差以調整模型的參數。 \n"
      ]
    },
    {
      "cell_type": "code",
      "execution_count": 7,
      "metadata": {},
      "outputs": [],
      "source": [
        "def train(dataloader, model, loss_fn, optimizer):\n",
        "    size = len(dataloader.dataset)\n",
        "    for batch, (X, y) in enumerate(dataloader):\n",
        "        X, y = X.to(device), y.to(device)\n",
        "        \n",
        "        # Compute prediction error\n",
        "        pred = model(X)\n",
        "        loss = loss_fn(pred, y)\n",
        "        \n",
        "        # Backpropagation\n",
        "        optimizer.zero_grad()\n",
        "        loss.backward()\n",
        "        optimizer.step()\n",
        "\n",
        "        if batch % 100 == 0:\n",
        "            loss, current = loss.item(), batch * len(X)\n",
        "            print(f\"loss: {loss:>7f}  [{current:>5d}/{size:>5d}]\")"
      ]
    },
    {
      "cell_type": "markdown",
      "metadata": {},
      "source": [
        "我们还可以根据测试数据集检查模型的性能，以确保它正在学习。"
      ]
    },
    {
      "cell_type": "code",
      "execution_count": 8,
      "metadata": {},
      "outputs": [],
      "source": [
        "def test(dataloader, model):\n",
        "    size = len(dataloader.dataset)\n",
        "    model.eval()\n",
        "    test_loss, correct = 0, 0\n",
        "    with torch.no_grad():\n",
        "        for X, y in dataloader:\n",
        "            X, y = X.to(device), y.to(device)\n",
        "            pred = model(X)\n",
        "            test_loss += loss_fn(pred, y).item()\n",
        "            correct += (pred.argmax(1) == y).type(torch.float).sum().item()\n",
        "    test_loss /= size\n",
        "    correct /= size\n",
        "    print(f\"Test Error: \\n Accuracy: {(100*correct):>0.1f}%, Avg loss: {test_loss:>8f} \\n\")"
      ]
    },
    {
      "cell_type": "markdown",
      "metadata": {},
      "source": [
        "訓練過程經過多次迭代（*epochs*）。在每個時期，模型學習參數以做出更好的預測。我們在每個時期打印模型的準確性和損失； 我們希望看到準確率隨著每個 epoch 的增加而減少。\n",
        "\n"
      ]
    },
    {
      "cell_type": "code",
      "execution_count": 9,
      "metadata": {},
      "outputs": [
        {
          "name": "stdout",
          "output_type": "stream",
          "text": [
            "Epoch 1\n",
            "-------------------------------\n",
            "loss: 2.305339  [    0/60000]\n",
            "loss: 2.298571  [ 6400/60000]\n",
            "loss: 2.283322  [12800/60000]\n",
            "loss: 2.289912  [19200/60000]\n",
            "loss: 2.263478  [25600/60000]\n",
            "loss: 2.235991  [32000/60000]\n",
            "loss: 2.261578  [38400/60000]\n",
            "loss: 2.223481  [44800/60000]\n",
            "loss: 2.227989  [51200/60000]\n",
            "loss: 2.219072  [57600/60000]\n",
            "Test Error: \n",
            " Accuracy: 43.3%, Avg loss: 0.034741 \n",
            "\n",
            "Epoch 2\n",
            "-------------------------------\n",
            "loss: 2.211195  [    0/60000]\n",
            "loss: 2.223341  [ 6400/60000]\n",
            "loss: 2.175561  [12800/60000]\n",
            "loss: 2.215628  [19200/60000]\n",
            "loss: 2.154950  [25600/60000]\n",
            "loss: 2.090364  [32000/60000]\n",
            "loss: 2.164232  [38400/60000]\n",
            "loss: 2.072783  [44800/60000]\n",
            "loss: 2.097270  [51200/60000]\n",
            "loss: 2.093919  [57600/60000]\n",
            "Test Error: \n",
            " Accuracy: 46.4%, Avg loss: 0.032619 \n",
            "\n",
            "Epoch 3\n",
            "-------------------------------\n",
            "loss: 2.074818  [    0/60000]\n",
            "loss: 2.100671  [ 6400/60000]\n",
            "loss: 2.004231  [12800/60000]\n",
            "loss: 2.085694  [19200/60000]\n",
            "loss: 1.969844  [25600/60000]\n",
            "loss: 1.860817  [32000/60000]\n",
            "loss: 1.984039  [38400/60000]\n",
            "loss: 1.827408  [44800/60000]\n",
            "loss: 1.879383  [51200/60000]\n",
            "loss: 1.865868  [57600/60000]\n",
            "Test Error: \n",
            " Accuracy: 45.9%, Avg loss: 0.029339 \n",
            "\n",
            "Epoch 4\n",
            "-------------------------------\n",
            "loss: 1.870538  [    0/60000]\n",
            "loss: 1.921969  [ 6400/60000]\n",
            "loss: 1.783141  [12800/60000]\n",
            "loss: 1.908793  [19200/60000]\n",
            "loss: 1.765753  [25600/60000]\n",
            "loss: 1.615876  [32000/60000]\n",
            "loss: 1.784898  [38400/60000]\n",
            "loss: 1.594055  [44800/60000]\n",
            "loss: 1.678746  [51200/60000]\n",
            "loss: 1.664955  [57600/60000]\n",
            "Test Error: \n",
            " Accuracy: 51.0%, Avg loss: 0.026665 \n",
            "\n",
            "Epoch 5\n",
            "-------------------------------\n",
            "loss: 1.703338  [    0/60000]\n",
            "loss: 1.782332  [ 6400/60000]\n",
            "loss: 1.628124  [12800/60000]\n",
            "loss: 1.776094  [19200/60000]\n",
            "loss: 1.634917  [25600/60000]\n",
            "loss: 1.459659  [32000/60000]\n",
            "loss: 1.632714  [38400/60000]\n",
            "loss: 1.446636  [44800/60000]\n",
            "loss: 1.542215  [51200/60000]\n",
            "loss: 1.521776  [57600/60000]\n",
            "Test Error: \n",
            " Accuracy: 55.6%, Avg loss: 0.024854 \n",
            "\n",
            "Epoch 6\n",
            "-------------------------------\n",
            "loss: 1.588477  [    0/60000]\n",
            "loss: 1.686600  [ 6400/60000]\n",
            "loss: 1.520805  [12800/60000]\n",
            "loss: 1.679490  [19200/60000]\n",
            "loss: 1.545347  [25600/60000]\n",
            "loss: 1.355643  [32000/60000]\n",
            "loss: 1.520531  [38400/60000]\n",
            "loss: 1.344299  [44800/60000]\n",
            "loss: 1.449481  [51200/60000]\n",
            "loss: 1.420765  [57600/60000]\n",
            "Test Error: \n",
            " Accuracy: 56.6%, Avg loss: 0.023501 \n",
            "\n",
            "Epoch 7\n",
            "-------------------------------\n",
            "loss: 1.501962  [    0/60000]\n",
            "loss: 1.613681  [ 6400/60000]\n",
            "loss: 1.432249  [12800/60000]\n",
            "loss: 1.602434  [19200/60000]\n",
            "loss: 1.476996  [25600/60000]\n",
            "loss: 1.276705  [32000/60000]\n",
            "loss: 1.436408  [38400/60000]\n",
            "loss: 1.266358  [44800/60000]\n",
            "loss: 1.382565  [51200/60000]\n",
            "loss: 1.346022  [57600/60000]\n",
            "Test Error: \n",
            " Accuracy: 57.0%, Avg loss: 0.022462 \n",
            "\n",
            "Epoch 8\n",
            "-------------------------------\n",
            "loss: 1.436013  [    0/60000]\n",
            "loss: 1.555985  [ 6400/60000]\n",
            "loss: 1.359015  [12800/60000]\n",
            "loss: 1.541505  [19200/60000]\n",
            "loss: 1.428412  [25600/60000]\n",
            "loss: 1.215463  [32000/60000]\n",
            "loss: 1.373824  [38400/60000]\n",
            "loss: 1.207119  [44800/60000]\n",
            "loss: 1.334752  [51200/60000]\n",
            "loss: 1.291301  [57600/60000]\n",
            "Test Error: \n",
            " Accuracy: 57.4%, Avg loss: 0.021693 \n",
            "\n",
            "Epoch 9\n",
            "-------------------------------\n",
            "loss: 1.386564  [    0/60000]\n",
            "loss: 1.512197  [ 6400/60000]\n",
            "loss: 1.302770  [12800/60000]\n",
            "loss: 1.497215  [19200/60000]\n",
            "loss: 1.396067  [25600/60000]\n",
            "loss: 1.168647  [32000/60000]\n",
            "loss: 1.328723  [38400/60000]\n",
            "loss: 1.163695  [44800/60000]\n",
            "loss: 1.301137  [51200/60000]\n",
            "loss: 1.252226  [57600/60000]\n",
            "Test Error: \n",
            " Accuracy: 57.6%, Avg loss: 0.021141 \n",
            "\n",
            "Epoch 10\n",
            "-------------------------------\n",
            "loss: 1.350464  [    0/60000]\n",
            "loss: 1.480276  [ 6400/60000]\n",
            "loss: 1.260536  [12800/60000]\n",
            "loss: 1.463096  [19200/60000]\n",
            "loss: 1.374217  [25600/60000]\n",
            "loss: 1.133234  [32000/60000]\n",
            "loss: 1.296223  [38400/60000]\n",
            "loss: 1.132880  [44800/60000]\n",
            "loss: 1.277353  [51200/60000]\n",
            "loss: 1.225685  [57600/60000]\n",
            "Test Error: \n",
            " Accuracy: 57.9%, Avg loss: 0.020738 \n",
            "\n",
            "Epoch 11\n",
            "-------------------------------\n",
            "loss: 1.322832  [    0/60000]\n",
            "loss: 1.456570  [ 6400/60000]\n",
            "loss: 1.228021  [12800/60000]\n",
            "loss: 1.435280  [19200/60000]\n",
            "loss: 1.358188  [25600/60000]\n",
            "loss: 1.106964  [32000/60000]\n",
            "loss: 1.271514  [38400/60000]\n",
            "loss: 1.109843  [44800/60000]\n",
            "loss: 1.259694  [51200/60000]\n",
            "loss: 1.206087  [57600/60000]\n",
            "Test Error: \n",
            " Accuracy: 58.1%, Avg loss: 0.020428 \n",
            "\n",
            "Epoch 12\n",
            "-------------------------------\n",
            "loss: 1.300196  [    0/60000]\n",
            "loss: 1.438437  [ 6400/60000]\n",
            "loss: 1.203116  [12800/60000]\n",
            "loss: 1.413113  [19200/60000]\n",
            "loss: 1.345589  [25600/60000]\n",
            "loss: 1.086814  [32000/60000]\n",
            "loss: 1.252071  [38400/60000]\n",
            "loss: 1.091505  [44800/60000]\n",
            "loss: 1.245740  [51200/60000]\n",
            "loss: 1.191085  [57600/60000]\n",
            "Test Error: \n",
            " Accuracy: 58.3%, Avg loss: 0.020177 \n",
            "\n",
            "Epoch 13\n",
            "-------------------------------\n",
            "loss: 1.281104  [    0/60000]\n",
            "loss: 1.423615  [ 6400/60000]\n",
            "loss: 1.183522  [12800/60000]\n",
            "loss: 1.394876  [19200/60000]\n",
            "loss: 1.334597  [25600/60000]\n",
            "loss: 1.070293  [32000/60000]\n",
            "loss: 1.235537  [38400/60000]\n",
            "loss: 1.076994  [44800/60000]\n",
            "loss: 1.234405  [51200/60000]\n",
            "loss: 1.178458  [57600/60000]\n",
            "Test Error: \n",
            " Accuracy: 58.6%, Avg loss: 0.019965 \n",
            "\n",
            "Epoch 14\n",
            "-------------------------------\n",
            "loss: 1.264431  [    0/60000]\n",
            "loss: 1.410995  [ 6400/60000]\n",
            "loss: 1.167299  [12800/60000]\n",
            "loss: 1.379222  [19200/60000]\n",
            "loss: 1.324830  [25600/60000]\n",
            "loss: 1.057030  [32000/60000]\n",
            "loss: 1.221200  [38400/60000]\n",
            "loss: 1.065512  [44800/60000]\n",
            "loss: 1.225110  [51200/60000]\n",
            "loss: 1.168087  [57600/60000]\n",
            "Test Error: \n",
            " Accuracy: 58.7%, Avg loss: 0.019778 \n",
            "\n",
            "Epoch 15\n",
            "-------------------------------\n",
            "loss: 1.249773  [    0/60000]\n",
            "loss: 1.399829  [ 6400/60000]\n",
            "loss: 1.153839  [12800/60000]\n",
            "loss: 1.365374  [19200/60000]\n",
            "loss: 1.315997  [25600/60000]\n",
            "loss: 1.045964  [32000/60000]\n",
            "loss: 1.208733  [38400/60000]\n",
            "loss: 1.056328  [44800/60000]\n",
            "loss: 1.217312  [51200/60000]\n",
            "loss: 1.158827  [57600/60000]\n",
            "Test Error: \n",
            " Accuracy: 58.9%, Avg loss: 0.019612 \n",
            "\n",
            "Done!\n"
          ]
        }
      ],
      "source": [
        "epochs = 15\n",
        "for t in range(epochs):\n",
        "    print(f\"Epoch {t+1}\\n-------------------------------\")\n",
        "    train(train_dataloader, model, loss_fn, optimizer)\n",
        "    test(test_dataloader, model)\n",
        "print(\"Done!\")"
      ]
    },
    {
      "cell_type": "markdown",
      "metadata": {},
      "source": [
        "最初的準確性不會很好（沒關係！）。嘗試運行循環以獲得更多的“epochs”或將“learning_rate”調整為更大的數字。也可能是我們選擇的模型配置可能不是此類問題的最佳配置（事實並非如此）。後面的課程將深入研究適用於視力問題的模型形狀。"
      ]
    },
    {
      "cell_type": "markdown",
      "metadata": {},
      "source": [
        "保存模型\n",
        "-------------\n",
        "保存模型的常用方法是序列化內部狀態字典（包含模型參數）。\n",
        "\n"
      ]
    },
    {
      "cell_type": "code",
      "execution_count": 10,
      "metadata": {},
      "outputs": [
        {
          "name": "stdout",
          "output_type": "stream",
          "text": [
            "Saved PyTorch Model State to model.pth\n"
          ]
        }
      ],
      "source": [
        "torch.save(model.state_dict(), \"data/model.pth\")\n",
        "print(\"Saved PyTorch Model State to model.pth\")"
      ]
    },
    {
      "cell_type": "markdown",
      "metadata": {},
      "source": [
        "加載模型\n",
        "-----------------------------\n",
        "\n",
        "加載模型的過程包括重新創建模型結構和加載\n",
        "將狀態字典放入其中。\n",
        "\n"
      ]
    },
    {
      "cell_type": "code",
      "execution_count": 11,
      "metadata": {},
      "outputs": [
        {
          "data": {
            "text/plain": [
              "<All keys matched successfully>"
            ]
          },
          "execution_count": 11,
          "metadata": {},
          "output_type": "execute_result"
        }
      ],
      "source": [
        "model = NeuralNetwork()\n",
        "model.load_state_dict(torch.load(\"data/model.pth\"))"
      ]
    },
    {
      "cell_type": "markdown",
      "metadata": {},
      "source": [
        "該模型現在可用於進行預測。\n",
        "\n"
      ]
    },
    {
      "cell_type": "code",
      "execution_count": 12,
      "metadata": {},
      "outputs": [
        {
          "name": "stdout",
          "output_type": "stream",
          "text": [
            "Predicted: \"Ankle boot\", Actual: \"Ankle boot\"\n"
          ]
        }
      ],
      "source": [
        "classes = [\n",
        "    \"T-shirt/top\",\n",
        "    \"Trouser\",\n",
        "    \"Pullover\",\n",
        "    \"Dress\",\n",
        "    \"Coat\",\n",
        "    \"Sandal\",\n",
        "    \"Shirt\",\n",
        "    \"Sneaker\",\n",
        "    \"Bag\",\n",
        "    \"Ankle boot\",\n",
        "]\n",
        "\n",
        "model.eval()\n",
        "x, y = test_data[0][0], test_data[0][1]\n",
        "with torch.no_grad():\n",
        "    pred = model(x)\n",
        "    predicted, actual = classes[pred[0].argmax(0)], classes[y]\n",
        "    print(f'Predicted: \"{predicted}\", Actual: \"{actual}\"')"
      ]
    }
  ],
  "metadata": {
    "interpreter": {
      "hash": "eec8323f1fd0687cc16c170f83e009bfe267a929289f6367d1c75a585500211d"
    },
    "kernelspec": {
      "display_name": "Python 3.8.10 64-bit ('pydev': conda)",
      "name": "python3"
    },
    "language_info": {
      "codemirror_mode": {
        "name": "ipython",
        "version": 3
      },
      "file_extension": ".py",
      "mimetype": "text/x-python",
      "name": "python",
      "nbconvert_exporter": "python",
      "pygments_lexer": "ipython3",
      "version": "3.8.10"
    },
    "nteract": {
      "version": "nteract-front-end@1.0.0"
    }
  },
  "nbformat": 4,
  "nbformat_minor": 1
}
