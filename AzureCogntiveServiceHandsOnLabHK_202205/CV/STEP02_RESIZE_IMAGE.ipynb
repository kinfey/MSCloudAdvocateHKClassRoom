{
  "cells": [
    {
      "cell_type": "code",
      "source": [
        "import os\r\n",
        "import shutil\r\n",
        "import numpy as np\r\n",
        "import matplotlib.pyplot as plt\r\n",
        "from PIL import Image\r\n",
        "\r\n",
        "\r\n",
        "get_ipython().run_line_magic('matplotlib', 'inline')\r\n",
        "\r\n",
        "imgdir = 'download'\r\n",
        "\r\n",
        "fig = plt.figure(figsize=(12, 16))\r\n",
        "\r\n",
        "dir_num = 0\r\n",
        "for root, folders, filenames in os.walk(imgdir):\r\n",
        "    for folder in folders:\r\n",
        "        file = os.listdir(os.path.join(root,folder))[0]\r\n",
        "        imgFile = os.path.join(root,folder, file)\r\n",
        "        if imgFile.endswith('.amlignore')==False:\r\n",
        "            img = Image.open(imgFile)\r\n",
        "            a=fig.add_subplot(4,np.ceil(len(folders)/4),dir_num + 1)\r\n",
        "            imgplot = plt.imshow(img)\r\n",
        "            a.set_title(folder)\r\n",
        "            dir_num = dir_num + 1"
      ],
      "outputs": [
        {
          "output_type": "display_data",
          "data": {
            "text/plain": "<Figure size 864x1152 with 0 Axes>"
          },
          "metadata": {}
        }
      ],
      "execution_count": 1,
      "metadata": {
        "gather": {
          "logged": 1652235367150
        }
      }
    },
    {
      "cell_type": "code",
      "source": [
        "import os\r\n",
        "import shutil\r\n",
        "import numpy as np\r\n",
        "import matplotlib.pyplot as plt\r\n",
        "from PIL import Image\r\n",
        "\r\n",
        "def resize_image(img, size): \r\n",
        "    from PIL import Image, ImageOps \r\n",
        "    \r\n",
        "    img.thumbnail(size, Image.ANTIALIAS)\r\n",
        "    \r\n",
        "    newimg = Image.new(\"RGB\", size, (255, 255, 255))\r\n",
        "    \r\n",
        "    # if np.array(img).shape[2] == 4:\r\n",
        "    #     newimg.paste(img, (int((size[0] - img.size[0]) / 2), int((size[1] - img.size[1]) / 2)), mask=img.split()[3])\r\n",
        "    #     print(size[0])\r\n",
        "    #     print(size[1])\r\n",
        "    #     print(img.size[0])\r\n",
        "    #     print(img.size[1])\r\n",
        "    #     print(img.split()[3])\r\n",
        "        \r\n",
        "    # else:\r\n",
        "    newimg.paste(img, (int((size[0] - img.size[0]) / 2), int((size[1] - img.size[1]) / 2)))\r\n",
        "    print(size[0])\r\n",
        "    print(size[1])\r\n",
        "    print(img.size[0])\r\n",
        "    print(img.size[1])\r\n",
        "        \r\n",
        "    return newimg"
      ],
      "outputs": [],
      "execution_count": 2,
      "metadata": {
        "gather": {
          "logged": 1652235367202
        }
      }
    },
    {
      "cell_type": "code",
      "source": [
        "size = (128,128)\r\n",
        "\r\n",
        "indir = 'download'\r\n",
        "outdir = 'image'"
      ],
      "outputs": [],
      "execution_count": 3,
      "metadata": {
        "gather": {
          "logged": 1652235367403
        }
      }
    },
    {
      "cell_type": "code",
      "source": [
        "if os.path.exists(outdir):\r\n",
        "    shutil.rmtree(outdir)\r\n",
        "\r\n",
        "for root, dirs, filenames in os.walk(indir):\r\n",
        "    for d in dirs:\r\n",
        "        print('processing folder ' + d)\r\n",
        "        saveFolder = os.path.join(outdir,d)\r\n",
        "        if not os.path.exists(saveFolder):\r\n",
        "            os.makedirs(saveFolder)\r\n",
        "        files = os.listdir(os.path.join(root,d))\r\n",
        "        for f in files:\r\n",
        "            imgFile = os.path.join(root,d, f)\r\n",
        "            print(\"reading \" + imgFile)\r\n",
        "            if imgFile.endswith('.amlignore')==False and imgFile.endswith('.amlignore.amltmp')==False :\r\n",
        "                img = Image.open(imgFile)\r\n",
        "                proc_img = resize_image(img, size)\r\n",
        "                saveAs = os.path.join(saveFolder, 'img_' + f)\r\n",
        "                print(\"writing \" + saveAs)\r\n",
        "                proc_img.save(saveAs)\r\n",
        "            #break"
      ],
      "outputs": [
        {
          "output_type": "stream",
          "name": "stdout",
          "text": "processing folder bb8\nreading download/bb8/.amlignore\nreading download/bb8/.amlignore.amltmp\nreading download/bb8/00000001.jpg\n128\n128\n128\n128\nwriting image/bb8/img_00000001.jpg\nreading download/bb8/00000002.jpg\n128\n128\n128\n128\nwriting image/bb8/img_00000002.jpg\nreading download/bb8/00000004.jpg\n128\n128\n128\n104\nwriting image/bb8/img_00000004.jpg\nreading download/bb8/00000005.png\n128\n128\n88\n128\nwriting image/bb8/img_00000005.png\nreading download/bb8/00000007.jpg\n128\n128\n91\n128\nwriting image/bb8/img_00000007.jpg\nreading download/bb8/00000008.jpg\n128\n128\n96\n128\nwriting image/bb8/img_00000008.jpg\nreading download/bb8/00000009.jpg\n128\n128\n128\n85\nwriting image/bb8/img_00000009.jpg\nreading download/bb8/00000010.jpeg\n128\n128\n128\n123\nwriting image/bb8/img_00000010.jpeg\nreading download/bb8/00000011.jpg\n128\n128\n79\n128\nwriting image/bb8/img_00000011.jpg\nreading download/bb8/00000016.jpg\n128\n128\n96\n128\nwriting image/bb8/img_00000016.jpg\nreading download/bb8/00000017.png\n128\n128\n126\n128\nwriting image/bb8/img_00000017.png\nreading download/bb8/00000018.jpg\n128\n128\n128\n96\nwriting image/bb8/img_00000018.jpg\nreading download/bb8/00000019.jpg\n128\n128\n128\n128\nwriting image/bb8/img_00000019.jpg\nreading download/bb8/00000020.jpg\n128\n128\n128\n128\nwriting image/bb8/img_00000020.jpg\nreading download/bb8/00000022.png\n128\n128\n128\n128\nwriting image/bb8/img_00000022.png\nreading download/bb8/00000023.jpg\n128\n128\n128\n128\nwriting image/bb8/img_00000023.jpg\nreading download/bb8/00000024.jpg\n128\n128\n128\n106\nwriting image/bb8/img_00000024.jpg\nreading download/bb8/00000026.jpg\n128\n128\n105\n128\nwriting image/bb8/img_00000026.jpg\nreading download/bb8/00000027.jpg\n128\n128\n128\n71\nwriting image/bb8/img_00000027.jpg\nreading download/bb8/00000029.png\n128\n128\n128\n124\nwriting image/bb8/img_00000029.png\nreading download/bb8/00000031.jpg\n128\n128\n128\n72\nwriting image/bb8/img_00000031.jpg\nreading download/bb8/00000032.jpg\n128\n128\n128\n72\nwriting image/bb8/img_00000032.jpg\nreading download/bb8/00000034.png\n128\n128\n72\n128\nwriting image/bb8/img_00000034.png\nreading download/bb8/00000035.jpg\n128\n128\n128\n72\nwriting image/bb8/img_00000035.jpg\nreading download/bb8/00000038.jpg\n128\n128\n105\n128\nwriting image/bb8/img_00000038.jpg\nreading download/bb8/00000040.jpg\n128\n128\n128\n72\nwriting image/bb8/img_00000040.jpg\nreading download/bb8/00000042.jpg\n128\n128\n128\n95\nwriting image/bb8/img_00000042.jpg\nreading download/bb8/00000043.png\n128\n128\n128\n123\nwriting image/bb8/img_00000043.png\nreading download/bb8/00000044.jpg\n128\n128\n128\n72\nwriting image/bb8/img_00000044.jpg\nreading download/bb8/00000045.jpg\n128\n128\n96\n128\nwriting image/bb8/img_00000045.jpg\nreading download/bb8/00000047.jpg\n128\n128\n128\n72\nwriting image/bb8/img_00000047.jpg\nreading download/bb8/00000048.jpg\n128\n128\n104\n128\nwriting image/bb8/img_00000048.jpg\nreading download/bb8/00000049.jpg\n128\n128\n128\n85\nwriting image/bb8/img_00000049.jpg\nprocessing folder c3po\nreading download/c3po/.amlignore\nreading download/c3po/.amlignore.amltmp\nreading download/c3po/00000001.png\n128\n128\n128\n128\nwriting image/c3po/img_00000001.png\nreading download/c3po/00000002.JPG\n128\n128\n96\n128\nwriting image/c3po/img_00000002.JPG\nreading download/c3po/00000003.jpg\n128\n128\n96\n128\nwriting image/c3po/img_00000003.jpg\nreading download/c3po/00000004.JPG\n128\n128\n56\n128\nwriting image/c3po/img_00000004.JPG\nreading download/c3po/00000006.jpg\n128\n128\n128\n96\nwriting image/c3po/img_00000006.jpg\nreading download/c3po/00000007.JPG\n128\n128\n128\n128\nwriting image/c3po/img_00000007.JPG\nreading download/c3po/00000008.jpg\n128\n128\n128\n85\nwriting image/c3po/img_00000008.jpg\nreading download/c3po/00000011.jpg\n128\n128\n128\n85\nwriting image/c3po/img_00000011.jpg\nreading download/c3po/00000012.JPG\n128\n128\n128\n96\nwriting image/c3po/img_00000012.JPG\nreading download/c3po/00000013.JPG\n128\n128\n80\n128\nwriting image/c3po/img_00000013.JPG\nreading download/c3po/00000014.jpg\n128\n128\n128\n96\nwriting image/c3po/img_00000014.jpg\nreading download/c3po/00000015.JPG\n128\n128\n128\n126\nwriting image/c3po/img_00000015.JPG\nreading download/c3po/00000016.jpg\n128\n128\n128\n97\nwriting image/c3po/img_00000016.jpg\nreading download/c3po/00000017.JPG\n128\n128\n85\n128\nwriting image/c3po/img_00000017.JPG\nreading download/c3po/00000018.jpg\n128\n128\n86\n128\nwriting image/c3po/img_00000018.jpg\nreading download/c3po/00000019.jpg\n128\n128\n128\n96\nwriting image/c3po/img_00000019.jpg\nreading download/c3po/00000020.jpg\n128\n128\n96\n128\nwriting image/c3po/img_00000020.jpg\nreading download/c3po/00000021.jpg\n128\n128\n61\n128\nwriting image/c3po/img_00000021.jpg\nreading download/c3po/00000023.JPG\n128\n128\n111\n128\nwriting image/c3po/img_00000023.JPG\nreading download/c3po/00000024.jpg\n128\n128\n85\n128\nwriting image/c3po/img_00000024.jpg\nreading download/c3po/00000025.JPG\n128\n128\n122\n128\nwriting image/c3po/img_00000025.JPG\nreading download/c3po/00000026.jpg\n128\n128\n96\n128\nwriting image/c3po/img_00000026.jpg\nreading download/c3po/00000027.jpg\n128\n128\n98\n128\nwriting image/c3po/img_00000027.jpg\nreading download/c3po/00000028.jpg\n128\n128\n128\n72\nwriting image/c3po/img_00000028.jpg\nreading download/c3po/00000030.jpg\n128\n128\n128\n100\nwriting image/c3po/img_00000030.jpg\nreading download/c3po/00000031.jpg\n128\n128\n128\n69\nwriting image/c3po/img_00000031.jpg\nreading download/c3po/00000032.jpg\n128\n128\n128\n96\nwriting image/c3po/img_00000032.jpg\nreading download/c3po/00000033.jpg\n128\n128\n128\n128\nwriting image/c3po/img_00000033.jpg\nreading download/c3po/00000034.jpg\n128\n128\n91\n128\nwriting image/c3po/img_00000034.jpg\nreading download/c3po/00000035.jpg\n128\n128\n128\n128\nwriting image/c3po/img_00000035.jpg\nreading download/c3po/00000036.jpg\n128\n128\n98\n128\nwriting image/c3po/img_00000036.jpg\nreading download/c3po/00000038.jpg\n128\n128\n128\n96\nwriting image/c3po/img_00000038.jpg\nreading download/c3po/00000040.jpg\n128\n128\n67\n128\nwriting image/c3po/img_00000040.jpg\nreading download/c3po/00000041.jpg\n128\n128\n81\n128\nwriting image/c3po/img_00000041.jpg\nreading download/c3po/00000042.jpg\n128\n128\n128\n96\nwriting image/c3po/img_00000042.jpg\nreading download/c3po/00000043.jpeg\n128\n128\n128\n108\nwriting image/c3po/img_00000043.jpeg\nreading download/c3po/00000044.png\n128\n128\n55\n128\nwriting image/c3po/img_00000044.png\nreading download/c3po/00000045.jpg\n128\n128\n128\n64\nwriting image/c3po/img_00000045.jpg\nreading download/c3po/00000046.jpg\n128\n128\n117\n128\nwriting image/c3po/img_00000046.jpg\nreading download/c3po/00000048.png\n128\n128\n126\n128\nwriting image/c3po/img_00000048.png\nreading download/c3po/00000049.jpg\n128\n128\n128\n114\nwriting image/c3po/img_00000049.jpg\nreading download/c3po/00000050.jpg\n128\n128\n128\n128\nwriting image/c3po/img_00000050.jpg\nprocessing folder r2d2\nreading download/r2d2/.amlignore\nreading download/r2d2/.amlignore.amltmp\nreading download/r2d2/00000001.png\n128\n128\n128\n128\nwriting image/r2d2/img_00000001.png\nreading download/r2d2/00000003.jpg\n128\n128\n128\n96\nwriting image/r2d2/img_00000003.jpg\nreading download/r2d2/00000004.jpg\n128\n128\n127\n128\nwriting image/r2d2/img_00000004.jpg\nreading download/r2d2/00000005.png\n128\n128\n83\n128\nwriting image/r2d2/img_00000005.png\nreading download/r2d2/00000009.jpg\n128\n128\n92\n128\nwriting image/r2d2/img_00000009.jpg\nreading download/r2d2/00000010.jpg\n128\n128\n128\n128\nwriting image/r2d2/img_00000010.jpg\nreading download/r2d2/00000012.jpg\n128\n128\n91\n128\nwriting image/r2d2/img_00000012.jpg\nreading download/r2d2/00000014.JPG\n128\n128\n92\n128\nwriting image/r2d2/img_00000014.JPG\nreading download/r2d2/00000015.jpg\n128\n128\n128\n102\nwriting image/r2d2/img_00000015.jpg\nreading download/r2d2/00000017.jpg\n128\n128\n128\n128\nwriting image/r2d2/img_00000017.jpg\nreading download/r2d2/00000018.jpg\n128\n128\n96\n128\nwriting image/r2d2/img_00000018.jpg\nreading download/r2d2/00000022.jpg\n128\n128\n128\n117\nwriting image/r2d2/img_00000022.jpg\nreading download/r2d2/00000023.jpg\n128\n128\n57\n128\nwriting image/r2d2/img_00000023.jpg\nreading download/r2d2/00000024.jpg\n128\n128\n78\n128\nwriting image/r2d2/img_00000024.jpg\nreading download/r2d2/00000025.png\n128\n128\n124\n128\nwriting image/r2d2/img_00000025.png\nreading download/r2d2/00000026.jpg\n128\n128\n128\n128\nwriting image/r2d2/img_00000026.jpg\nreading download/r2d2/00000027.jpg\n128\n128\n128\n128\nwriting image/r2d2/img_00000027.jpg\nreading download/r2d2/00000028.jpg\n128\n128\n72\n128\nwriting image/r2d2/img_00000028.jpg\nreading download/r2d2/00000032.jpg\n128\n128\n95\n128\nwriting image/r2d2/img_00000032.jpg\nreading download/r2d2/00000033.JPG\n128\n128\n92\n128\nwriting image/r2d2/img_00000033.JPG\nreading download/r2d2/00000035.JPG\n128\n128\n98\n128\nwriting image/r2d2/img_00000035.JPG\nreading download/r2d2/00000036.jpg\n128\n128\n128\n93\nwriting image/r2d2/img_00000036.jpg\nreading download/r2d2/00000038.jpg\n128\n128\n91\n128\nwriting image/r2d2/img_00000038.jpg\nreading download/r2d2/00000039.jpg\n128\n128\n128\n72\nwriting image/r2d2/img_00000039.jpg\nreading download/r2d2/00000040.jpg\n128\n128\n128\n96\nwriting image/r2d2/img_00000040.jpg\nreading download/r2d2/00000041.jpg\n128\n128\n96\n128\nwriting image/r2d2/img_00000041.jpg\nreading download/r2d2/00000042.JPG\n128\n128\n92\n128\nwriting image/r2d2/img_00000042.JPG\nreading download/r2d2/00000043.png\n128\n128\n88\n128\nwriting image/r2d2/img_00000043.png\nreading download/r2d2/00000044.JPG\n128\n128\n94\n128\nwriting image/r2d2/img_00000044.JPG\nreading download/r2d2/00000045.jpg\n128\n128\n96\n128\nwriting image/r2d2/img_00000045.jpg\nreading download/r2d2/00000046.JPG\n128\n128\n85\n128\nwriting image/r2d2/img_00000046.JPG\nreading download/r2d2/00000047.jpeg\n128\n128\n128\n106\nwriting image/r2d2/img_00000047.jpeg\nreading download/r2d2/00000048.jpg\n128\n128\n128\n77\nwriting image/r2d2/img_00000048.jpg\nreading download/r2d2/00000049.jpg\n128\n128\n128\n128\nwriting image/r2d2/img_00000049.jpg\nreading download/r2d2/00000050.jpg\n128\n128\n85\n128\nwriting image/r2d2/img_00000050.jpg\n"
        }
      ],
      "execution_count": 4,
      "metadata": {
        "gather": {
          "logged": 1652235383388
        }
      }
    },
    {
      "cell_type": "code",
      "source": [
        "fig = plt.figure(figsize=(10, 40))\r\n",
        "\r\n",
        "img_num = 1\r\n",
        "for root, folders, filenames in os.walk(indir):\r\n",
        "    for folder in folders:\r\n",
        "        file = os.listdir(os.path.join(root,folder))[0]\r\n",
        "        imgFile1 = os.path.join(indir,folder, file)\r\n",
        "        if imgFile1.endswith('.amlignore')==False and imgFile1.endswith('.amlignore.amltmp')==False :\r\n",
        "            img1 = Image.open(imgFile1)\r\n",
        "            a=fig.add_subplot(len(folders), 2, img_num)\r\n",
        "            imgplot = plt.imshow(img1)\r\n",
        "            a.set_title(folder)\r\n",
        "            img_num = img_num + 1\r\n",
        "            imgFile2 = os.path.join(outdir,folder, 'img_' + file)\r\n",
        "            img2 = Image.open(imgFile2)\r\n",
        "            b=fig.add_subplot(len(folders), 2, img_num)\r\n",
        "            imgplot = plt.imshow(img2)\r\n",
        "            b.set_title('resized ' + folder)\r\n",
        "            img_num = img_num + 1"
      ],
      "outputs": [
        {
          "output_type": "display_data",
          "data": {
            "text/plain": "<Figure size 720x2880 with 0 Axes>"
          },
          "metadata": {}
        }
      ],
      "execution_count": 6,
      "metadata": {
        "gather": {
          "logged": 1652235431264
        }
      }
    }
  ],
  "metadata": {
    "orig_nbformat": 4,
    "language_info": {
      "name": "python",
      "version": "3.8.5",
      "mimetype": "text/x-python",
      "codemirror_mode": {
        "name": "ipython",
        "version": 3
      },
      "pygments_lexer": "ipython3",
      "nbconvert_exporter": "python",
      "file_extension": ".py"
    },
    "kernelspec": {
      "name": "python3",
      "language": "python",
      "display_name": "Python 3"
    },
    "interpreter": {
      "hash": "cd6c2d5b6def59a78dd4f60b7bebd73224da0fafd12459c3daf7ca8dc9395e3f"
    },
    "kernel_info": {
      "name": "python3"
    },
    "nteract": {
      "version": "nteract-front-end@1.0.0"
    },
    "microsoft": {
      "host": {
        "AzureML": {
          "notebookHasBeenCompleted": true
        }
      }
    }
  },
  "nbformat": 4,
  "nbformat_minor": 2
}