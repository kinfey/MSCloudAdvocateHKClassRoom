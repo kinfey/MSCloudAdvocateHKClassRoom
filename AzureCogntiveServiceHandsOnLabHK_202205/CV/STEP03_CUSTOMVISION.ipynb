{
  "cells": [
    {
      "cell_type": "code",
      "source": [
        "pip install azure-cognitiveservices-vision-customvision"
      ],
      "outputs": [
        {
          "output_type": "stream",
          "name": "stdout",
          "text": "Collecting azure-cognitiveservices-vision-customvision\n  Downloading azure_cognitiveservices_vision_customvision-3.1.0-py2.py3-none-any.whl (62 kB)\n\u001b[K     |████████████████████████████████| 62 kB 127 kB/s  eta 0:00:01\n\u001b[?25hRequirement already satisfied: azure-common~=1.1 in /anaconda/envs/azureml_py38/lib/python3.8/site-packages (from azure-cognitiveservices-vision-customvision) (1.1.28)\nRequirement already satisfied: msrest>=0.5.0 in /anaconda/envs/azureml_py38/lib/python3.8/site-packages (from azure-cognitiveservices-vision-customvision) (0.6.21)\nRequirement already satisfied: requests-oauthlib>=0.5.0 in /anaconda/envs/azureml_py38/lib/python3.8/site-packages (from msrest>=0.5.0->azure-cognitiveservices-vision-customvision) (1.3.1)\nRequirement already satisfied: requests~=2.16 in /anaconda/envs/azureml_py38/lib/python3.8/site-packages (from msrest>=0.5.0->azure-cognitiveservices-vision-customvision) (2.27.1)\nRequirement already satisfied: isodate>=0.6.0 in /anaconda/envs/azureml_py38/lib/python3.8/site-packages (from msrest>=0.5.0->azure-cognitiveservices-vision-customvision) (0.6.1)\nRequirement already satisfied: certifi>=2017.4.17 in /anaconda/envs/azureml_py38/lib/python3.8/site-packages (from msrest>=0.5.0->azure-cognitiveservices-vision-customvision) (2021.10.8)\nRequirement already satisfied: oauthlib>=3.0.0 in /anaconda/envs/azureml_py38/lib/python3.8/site-packages (from requests-oauthlib>=0.5.0->msrest>=0.5.0->azure-cognitiveservices-vision-customvision) (3.2.0)\nRequirement already satisfied: idna<4,>=2.5; python_version >= \"3\" in /anaconda/envs/azureml_py38/lib/python3.8/site-packages (from requests~=2.16->msrest>=0.5.0->azure-cognitiveservices-vision-customvision) (3.3)\nRequirement already satisfied: urllib3<1.27,>=1.21.1 in /anaconda/envs/azureml_py38/lib/python3.8/site-packages (from requests~=2.16->msrest>=0.5.0->azure-cognitiveservices-vision-customvision) (1.26.7)\nRequirement already satisfied: charset-normalizer~=2.0.0; python_version >= \"3\" in /anaconda/envs/azureml_py38/lib/python3.8/site-packages (from requests~=2.16->msrest>=0.5.0->azure-cognitiveservices-vision-customvision) (2.0.12)\nRequirement already satisfied: six in /anaconda/envs/azureml_py38/lib/python3.8/site-packages (from isodate>=0.6.0->msrest>=0.5.0->azure-cognitiveservices-vision-customvision) (1.16.0)\nInstalling collected packages: azure-cognitiveservices-vision-customvision\nSuccessfully installed azure-cognitiveservices-vision-customvision-3.1.0\nNote: you may need to restart the kernel to use updated packages.\n"
        }
      ],
      "execution_count": 2,
      "metadata": {
        "gather": {
          "logged": 1652237613464
        }
      }
    },
    {
      "cell_type": "code",
      "source": [
        "from azure.cognitiveservices.vision.customvision.training import CustomVisionTrainingClient\n",
        "from azure.cognitiveservices.vision.customvision.training.models import ImageFileCreateEntry\n",
        "from msrest.authentication import ApiKeyCredentials"
      ],
      "outputs": [],
      "execution_count": 3,
      "metadata": {
        "jupyter": {
          "source_hidden": false,
          "outputs_hidden": false
        },
        "nteract": {
          "transient": {
            "deleting": false
          }
        },
        "gather": {
          "logged": 1652237613509
        }
      }
    },
    {
      "cell_type": "code",
      "source": [
        "ENDPOINT = \"https://southeastasia.api.cognitive.microsoft.com/\"\r\n",
        "\r\n",
        "training_key = \"b6780f5b911145879b9706450c64ff8a\"\r\n",
        "prediction_resource_id = \"901e11c6-42ed-4fcc-875a-6bd77390af5b\"\r\n",
        "\r\n",
        "publish_iteration_name = \"classifyModel\"\r\n",
        "\r\n",
        "credentials = ApiKeyCredentials(in_headers={\"Training-key\": training_key})\r\n",
        "trainer = CustomVisionTrainingClient(ENDPOINT, credentials)\r\n",
        "\r\n",
        "print (\"Creating project...\")\r\n",
        "project = trainer.create_project(\"AzureMLHOL\")"
      ],
      "outputs": [
        {
          "output_type": "stream",
          "name": "stdout",
          "text": "Creating project...\n"
        }
      ],
      "execution_count": 4,
      "metadata": {
        "gather": {
          "logged": 1652237618355
        }
      }
    },
    {
      "cell_type": "code",
      "source": [
        "bb8_tag = trainer.create_tag(project.id, \"bb8\")\r\n",
        "c3po_tag = trainer.create_tag(project.id, \"c3po\")\r\n",
        "r2d2_tag = trainer.create_tag(project.id, \"r2d2\")"
      ],
      "outputs": [],
      "execution_count": 5,
      "metadata": {
        "gather": {
          "logged": 1652237624714
        }
      }
    },
    {
      "cell_type": "code",
      "source": [
        "import os\r\n",
        "path = './image'\r\n",
        "image_list =[]\r\n",
        "for root, dirs, filenames in os.walk(path):\r\n",
        "    for d in dirs:\r\n",
        "        print('processing folder ' + d)     \r\n",
        "        files = os.listdir(os.path.join(root,d))\r\n",
        "        for f in files:\r\n",
        "            # Open the file\r\n",
        "            imgFile = os.path.join(root,d, f)\r\n",
        "            print(imgFile)\r\n",
        "            with open(imgFile, \"rb\") as image_contents:                \r\n",
        "                if d=='r2d2':            \r\n",
        "                    image_list.append(ImageFileCreateEntry(name=f, contents=image_contents.read(), tag_ids=[r2d2_tag.id]))      \r\n",
        "                elif d=='c3po':\r\n",
        "                    image_list.append(ImageFileCreateEntry(name=f, contents=image_contents.read(), tag_ids=[c3po_tag.id]))\r\n",
        "                else:\r\n",
        "                    image_list.append(ImageFileCreateEntry(name=f, contents=image_contents.read(), tag_ids=[bb8_tag.id]))"
      ],
      "outputs": [
        {
          "output_type": "stream",
          "name": "stdout",
          "text": "processing folder bb8\n./image/bb8/img_00000001.jpg\n./image/bb8/img_00000002.jpg\n./image/bb8/img_00000004.jpg\n./image/bb8/img_00000005.png\n./image/bb8/img_00000007.jpg\n./image/bb8/img_00000008.jpg\n./image/bb8/img_00000009.jpg\n./image/bb8/img_00000010.jpeg\n./image/bb8/img_00000011.jpg\n./image/bb8/img_00000016.jpg\n./image/bb8/img_00000017.png\n./image/bb8/img_00000018.jpg\n./image/bb8/img_00000019.jpg\n./image/bb8/img_00000020.jpg\n./image/bb8/img_00000022.png\n./image/bb8/img_00000023.jpg\n./image/bb8/img_00000024.jpg\n./image/bb8/img_00000026.jpg\n./image/bb8/img_00000027.jpg\n./image/bb8/img_00000029.png\n./image/bb8/img_00000031.jpg\n./image/bb8/img_00000032.jpg\n./image/bb8/img_00000034.png\n./image/bb8/img_00000035.jpg\n./image/bb8/img_00000038.jpg\n./image/bb8/img_00000040.jpg\n./image/bb8/img_00000042.jpg\n./image/bb8/img_00000043.png\n./image/bb8/img_00000044.jpg\n./image/bb8/img_00000045.jpg\n./image/bb8/img_00000047.jpg\n./image/bb8/img_00000048.jpg\n./image/bb8/img_00000049.jpg\nprocessing folder c3po\n./image/c3po/img_00000001.png\n./image/c3po/img_00000002.JPG\n./image/c3po/img_00000003.jpg\n./image/c3po/img_00000004.JPG\n./image/c3po/img_00000006.jpg\n./image/c3po/img_00000007.JPG\n./image/c3po/img_00000008.jpg\n./image/c3po/img_00000011.jpg\n./image/c3po/img_00000012.JPG\n./image/c3po/img_00000013.JPG\n./image/c3po/img_00000014.jpg\n./image/c3po/img_00000015.JPG\n./image/c3po/img_00000016.jpg\n./image/c3po/img_00000017.JPG\n./image/c3po/img_00000018.jpg\n./image/c3po/img_00000019.jpg\n./image/c3po/img_00000020.jpg\n./image/c3po/img_00000021.jpg\n./image/c3po/img_00000023.JPG\n./image/c3po/img_00000024.jpg\n./image/c3po/img_00000025.JPG\n./image/c3po/img_00000026.jpg\n./image/c3po/img_00000027.jpg\n./image/c3po/img_00000028.jpg\n./image/c3po/img_00000030.jpg\n./image/c3po/img_00000031.jpg\n./image/c3po/img_00000032.jpg\n./image/c3po/img_00000033.jpg\n./image/c3po/img_00000034.jpg\n./image/c3po/img_00000035.jpg\n./image/c3po/img_00000036.jpg\n./image/c3po/img_00000038.jpg\n./image/c3po/img_00000040.jpg\n./image/c3po/img_00000041.jpg\n./image/c3po/img_00000042.jpg\n./image/c3po/img_00000043.jpeg\n./image/c3po/img_00000044.png\n./image/c3po/img_00000045.jpg\n./image/c3po/img_00000046.jpg\n./image/c3po/img_00000048.png\n./image/c3po/img_00000049.jpg\n./image/c3po/img_00000050.jpg\nprocessing folder r2d2\n./image/r2d2/img_00000001.png\n./image/r2d2/img_00000003.jpg\n./image/r2d2/img_00000004.jpg\n./image/r2d2/img_00000005.png\n./image/r2d2/img_00000009.jpg\n./image/r2d2/img_00000010.jpg\n./image/r2d2/img_00000012.jpg\n./image/r2d2/img_00000014.JPG\n./image/r2d2/img_00000015.jpg\n./image/r2d2/img_00000017.jpg\n./image/r2d2/img_00000018.jpg\n./image/r2d2/img_00000022.jpg\n./image/r2d2/img_00000023.jpg\n./image/r2d2/img_00000024.jpg\n./image/r2d2/img_00000025.png\n./image/r2d2/img_00000026.jpg\n./image/r2d2/img_00000027.jpg\n./image/r2d2/img_00000028.jpg\n./image/r2d2/img_00000032.jpg\n./image/r2d2/img_00000033.JPG\n./image/r2d2/img_00000035.JPG\n./image/r2d2/img_00000036.jpg\n./image/r2d2/img_00000038.jpg\n./image/r2d2/img_00000039.jpg\n./image/r2d2/img_00000040.jpg\n./image/r2d2/img_00000041.jpg\n./image/r2d2/img_00000042.JPG\n./image/r2d2/img_00000043.png\n./image/r2d2/img_00000044.JPG\n./image/r2d2/img_00000045.jpg\n./image/r2d2/img_00000046.JPG\n./image/r2d2/img_00000047.jpeg\n./image/r2d2/img_00000048.jpg\n./image/r2d2/img_00000049.jpg\n./image/r2d2/img_00000050.jpg\n"
        }
      ],
      "execution_count": 9,
      "metadata": {
        "gather": {
          "logged": 1652237705145
        }
      }
    },
    {
      "cell_type": "code",
      "source": [
        "\r\n",
        "from azure.cognitiveservices.vision.customvision.training.models import ImageFileCreateBatch\r\n",
        "imgSize = int(len(image_list)/64)\r\n",
        "imgPage = len(image_list)%64\r\n",
        "\r\n",
        "for i in range(imgSize):\r\n",
        "    print(i)\r\n",
        "    list = image_list[i*64 : (i+1)*64]\r\n",
        "    upload_result = trainer.create_images_from_files(project.id, ImageFileCreateBatch(images= list))\r\n",
        "    if not upload_result.is_batch_successful:\r\n",
        "        for image in upload_result.images:\r\n",
        "            print(\"Image status: \", image.status)\r\n",
        "        exit(-1)"
      ],
      "outputs": [
        {
          "output_type": "stream",
          "name": "stdout",
          "text": "0\nImage status:  OKDuplicate\nImage status:  OKDuplicate\nImage status:  OKDuplicate\nImage status:  OKDuplicate\nImage status:  OKDuplicate\nImage status:  OKDuplicate\nImage status:  OKDuplicate\nImage status:  OKDuplicate\nImage status:  OKDuplicate\nImage status:  OKDuplicate\nImage status:  OKDuplicate\nImage status:  OKDuplicate\nImage status:  OKDuplicate\nImage status:  OKDuplicate\nImage status:  OKDuplicate\nImage status:  OKDuplicate\nImage status:  OKDuplicate\nImage status:  OKDuplicate\nImage status:  OKDuplicate\nImage status:  OKDuplicate\nImage status:  OKDuplicate\nImage status:  OKDuplicate\nImage status:  OKDuplicate\nImage status:  OKDuplicate\nImage status:  OKDuplicate\nImage status:  OKDuplicate\nImage status:  OKDuplicate\nImage status:  OKDuplicate\nImage status:  OKDuplicate\nImage status:  OKDuplicate\nImage status:  OKDuplicate\nImage status:  OKDuplicate\nImage status:  OKDuplicate\nImage status:  OKDuplicate\nImage status:  OKDuplicate\nImage status:  OKDuplicate\nImage status:  OKDuplicate\nImage status:  OKDuplicate\nImage status:  OKDuplicate\nImage status:  OKDuplicate\nImage status:  OKDuplicate\nImage status:  OKDuplicate\nImage status:  OKDuplicate\nImage status:  OKDuplicate\nImage status:  OKDuplicate\nImage status:  OKDuplicate\nImage status:  OKDuplicate\nImage status:  OKDuplicate\nImage status:  OKDuplicate\nImage status:  OKDuplicate\nImage status:  OKDuplicate\nImage status:  OKDuplicate\nImage status:  OKDuplicate\nImage status:  OKDuplicate\nImage status:  OKDuplicate\nImage status:  OKDuplicate\nImage status:  OKDuplicate\nImage status:  OKDuplicate\nImage status:  OKDuplicate\nImage status:  OKDuplicate\nImage status:  OKDuplicate\nImage status:  OKDuplicate\nImage status:  OKDuplicate\nImage status:  OKDuplicate\n"
        }
      ],
      "execution_count": 10,
      "metadata": {
        "gather": {
          "logged": 1652237712655
        }
      }
    },
    {
      "cell_type": "code",
      "source": [
        "if imgPage > 0 :\r\n",
        "    list = image_list[imgSize*64 : imgSize*64 + imgPage]\r\n",
        "    upload_result = trainer.create_images_from_files(project.id, ImageFileCreateBatch(images= list))\r\n",
        "    if not upload_result.is_batch_successful:\r\n",
        "        for image in upload_result.images:\r\n",
        "            print(\"Image status: \", image.status)\r\n",
        "        exit(-1)"
      ],
      "outputs": [
        {
          "output_type": "stream",
          "name": "stdout",
          "text": "Image status:  OKDuplicate\nImage status:  OKDuplicate\nImage status:  OKDuplicate\nImage status:  OKDuplicate\nImage status:  OKDuplicate\nImage status:  OKDuplicate\nImage status:  OKDuplicate\nImage status:  OKDuplicate\nImage status:  OKDuplicate\nImage status:  OKDuplicate\nImage status:  OKDuplicate\nImage status:  OKDuplicate\nImage status:  OKDuplicate\nImage status:  OKDuplicate\nImage status:  OKDuplicate\nImage status:  OKDuplicate\nImage status:  OKDuplicate\nImage status:  OKDuplicate\nImage status:  OKDuplicate\nImage status:  OKDuplicate\nImage status:  OKDuplicate\nImage status:  OKDuplicate\nImage status:  OKDuplicate\nImage status:  OKDuplicate\nImage status:  OKDuplicate\nImage status:  OKDuplicate\nImage status:  OKDuplicate\nImage status:  OKDuplicate\nImage status:  OKDuplicate\nImage status:  OKDuplicate\nImage status:  OKDuplicate\nImage status:  OKDuplicate\nImage status:  OKDuplicate\nImage status:  OKDuplicate\nImage status:  OKDuplicate\nImage status:  OKDuplicate\nImage status:  OKDuplicate\nImage status:  OKDuplicate\nImage status:  OKDuplicate\nImage status:  OKDuplicate\nImage status:  OKDuplicate\nImage status:  OKDuplicate\nImage status:  OKDuplicate\nImage status:  OKDuplicate\nImage status:  OKDuplicate\nImage status:  OKDuplicate\n"
        }
      ],
      "execution_count": 11,
      "metadata": {
        "gather": {
          "logged": 1652237721661
        }
      }
    },
    {
      "cell_type": "code",
      "source": [
        "import time\r\n",
        "\r\n",
        "print (\"Training...\")\r\n",
        "iteration = trainer.train_project(project.id)\r\n",
        "while (iteration.status != \"Completed\"):\r\n",
        "    iteration = trainer.get_iteration(project.id, iteration.id)\r\n",
        "    print (\"Training status: \" + iteration.status)\r\n",
        "    time.sleep(1)\r\n",
        "\r\n",
        "trainer.publish_iteration(project.id, iteration.id, publish_iteration_name, prediction_resource_id)\r\n",
        "print (\"Done!\")"
      ],
      "outputs": [
        {
          "output_type": "stream",
          "name": "stdout",
          "text": "Training...\nTraining status: Training\nTraining status: Training\nTraining status: Training\nTraining status: Training\nTraining status: Training\nTraining status: Training\nTraining status: Training\nTraining status: Training\nTraining status: Training\nTraining status: Training\nTraining status: Training\nTraining status: Training\nTraining status: Training\nTraining status: Training\nTraining status: Training\nTraining status: Training\nTraining status: Training\nTraining status: Training\nTraining status: Training\nTraining status: Training\nTraining status: Training\nTraining status: Training\nTraining status: Training\nTraining status: Training\nTraining status: Training\nTraining status: Training\nTraining status: Training\nTraining status: Training\nTraining status: Training\nTraining status: Training\nTraining status: Training\nTraining status: Training\nTraining status: Training\nTraining status: Training\nTraining status: Training\nTraining status: Training\nTraining status: Training\nTraining status: Training\nTraining status: Training\nTraining status: Training\nTraining status: Training\nTraining status: Training\nTraining status: Training\nTraining status: Training\nTraining status: Training\nTraining status: Training\nTraining status: Training\nTraining status: Training\nTraining status: Training\nTraining status: Training\nTraining status: Training\nTraining status: Training\nTraining status: Training\nTraining status: Training\nTraining status: Training\nTraining status: Training\nTraining status: Training\nTraining status: Training\nTraining status: Training\nTraining status: Training\nTraining status: Training\nTraining status: Training\nTraining status: Training\nTraining status: Training\nTraining status: Training\nTraining status: Training\nTraining status: Training\nTraining status: Training\nTraining status: Training\nTraining status: Training\nTraining status: Training\nTraining status: Training\nTraining status: Training\nTraining status: Training\nTraining status: Training\nTraining status: Training\nTraining status: Training\nTraining status: Training\nTraining status: Training\nTraining status: Training\nTraining status: Training\nTraining status: Training\nTraining status: Training\nTraining status: Training\nTraining status: Training\nTraining status: Training\nTraining status: Training\nTraining status: Training\nTraining status: Training\nTraining status: Training\nTraining status: Training\nTraining status: Training\nTraining status: Training\nTraining status: Training\nTraining status: Training\nTraining status: Training\nTraining status: Training\nTraining status: Training\nTraining status: Training\nTraining status: Training\nTraining status: Training\nTraining status: Training\nTraining status: Training\nTraining status: Training\nTraining status: Training\nTraining status: Training\nTraining status: Training\nTraining status: Training\nTraining status: Training\nTraining status: Training\nTraining status: Training\nTraining status: Training\nTraining status: Training\nTraining status: Training\nTraining status: Training\nTraining status: Training\nTraining status: Training\nTraining status: Training\nTraining status: Training\nTraining status: Training\nTraining status: Training\nTraining status: Training\nTraining status: Training\nTraining status: Training\nTraining status: Training\nTraining status: Training\nTraining status: Training\nTraining status: Training\nTraining status: Training\nTraining status: Training\nTraining status: Training\nTraining status: Training\nTraining status: Training\nTraining status: Training\nTraining status: Training\nTraining status: Training\nTraining status: Training\nTraining status: Training\nTraining status: Training\nTraining status: Training\nTraining status: Training\nTraining status: Training\nTraining status: Training\nTraining status: Training\nTraining status: Training\nTraining status: Training\nTraining status: Training\nTraining status: Training\nTraining status: Training\nTraining status: Training\nTraining status: Training\nTraining status: Training\nTraining status: Training\nTraining status: Training\nTraining status: Training\nTraining status: Training\nTraining status: Training\nTraining status: Training\nTraining status: Training\nTraining status: Training\nTraining status: Training\nTraining status: Training\nTraining status: Training\nTraining status: Training\nTraining status: Training\nTraining status: Training\nTraining status: Training\nTraining status: Training\nTraining status: Training\nTraining status: Training\nTraining status: Training\nTraining status: Training\nTraining status: Training\nTraining status: Training\nTraining status: Training\nTraining status: Training\nTraining status: Training\nTraining status: Training\nTraining status: Training\nTraining status: Training\nTraining status: Training\nTraining status: Training\nTraining status: Training\nTraining status: Training\nTraining status: Training\nTraining status: Training\nTraining status: Training\nTraining status: Training\nTraining status: Training\nTraining status: Training\nTraining status: Training\nTraining status: Training\nTraining status: Training\nTraining status: Training\nTraining status: Training\nTraining status: Training\nTraining status: Training\nTraining status: Training\nTraining status: Training\nTraining status: Training\nTraining status: Training\nTraining status: Training\nTraining status: Training\nTraining status: Training\nTraining status: Training\nTraining status: Training\nTraining status: Training\nTraining status: Training\nTraining status: Training\nTraining status: Training\nTraining status: Training\nTraining status: Training\nTraining status: Training\nTraining status: Training\nTraining status: Training\nTraining status: Training\nTraining status: Training\nTraining status: Training\nTraining status: Training\nTraining status: Training\nTraining status: Training\nTraining status: Training\nTraining status: Training\nTraining status: Completed\n"
        },
        {
          "output_type": "error",
          "ename": "CustomVisionErrorException",
          "evalue": "Invalid prediction resource id",
          "traceback": [
            "\u001b[0;31m---------------------------------------------------------------------------\u001b[0m",
            "\u001b[0;31mCustomVisionErrorException\u001b[0m                Traceback (most recent call last)",
            "\u001b[0;32m<ipython-input-12-18fb1c09daed>\u001b[0m in \u001b[0;36m<module>\u001b[0;34m\u001b[0m\n\u001b[1;32m      8\u001b[0m     \u001b[0mtime\u001b[0m\u001b[0;34m.\u001b[0m\u001b[0msleep\u001b[0m\u001b[0;34m(\u001b[0m\u001b[0;36m1\u001b[0m\u001b[0;34m)\u001b[0m\u001b[0;34m\u001b[0m\u001b[0;34m\u001b[0m\u001b[0m\n\u001b[1;32m      9\u001b[0m \u001b[0;34m\u001b[0m\u001b[0m\n\u001b[0;32m---> 10\u001b[0;31m \u001b[0mtrainer\u001b[0m\u001b[0;34m.\u001b[0m\u001b[0mpublish_iteration\u001b[0m\u001b[0;34m(\u001b[0m\u001b[0mproject\u001b[0m\u001b[0;34m.\u001b[0m\u001b[0mid\u001b[0m\u001b[0;34m,\u001b[0m \u001b[0miteration\u001b[0m\u001b[0;34m.\u001b[0m\u001b[0mid\u001b[0m\u001b[0;34m,\u001b[0m \u001b[0mpublish_iteration_name\u001b[0m\u001b[0;34m,\u001b[0m \u001b[0mprediction_resource_id\u001b[0m\u001b[0;34m)\u001b[0m\u001b[0;34m\u001b[0m\u001b[0;34m\u001b[0m\u001b[0m\n\u001b[0m\u001b[1;32m     11\u001b[0m \u001b[0mprint\u001b[0m \u001b[0;34m(\u001b[0m\u001b[0;34m\"Done!\"\u001b[0m\u001b[0;34m)\u001b[0m\u001b[0;34m\u001b[0m\u001b[0;34m\u001b[0m\u001b[0m\n",
            "\u001b[0;32m/anaconda/envs/azureml_py38/lib/python3.8/site-packages/azure/cognitiveservices/vision/customvision/training/operations/_custom_vision_training_client_operations.py\u001b[0m in \u001b[0;36mpublish_iteration\u001b[0;34m(self, project_id, iteration_id, publish_name, prediction_id, overwrite, custom_headers, raw, **operation_config)\u001b[0m\n\u001b[1;32m   2520\u001b[0m \u001b[0;34m\u001b[0m\u001b[0m\n\u001b[1;32m   2521\u001b[0m         \u001b[0;32mif\u001b[0m \u001b[0mresponse\u001b[0m\u001b[0;34m.\u001b[0m\u001b[0mstatus_code\u001b[0m \u001b[0;32mnot\u001b[0m \u001b[0;32min\u001b[0m \u001b[0;34m[\u001b[0m\u001b[0;36m200\u001b[0m\u001b[0;34m]\u001b[0m\u001b[0;34m:\u001b[0m\u001b[0;34m\u001b[0m\u001b[0;34m\u001b[0m\u001b[0m\n\u001b[0;32m-> 2522\u001b[0;31m             \u001b[0;32mraise\u001b[0m \u001b[0mmodels\u001b[0m\u001b[0;34m.\u001b[0m\u001b[0mCustomVisionErrorException\u001b[0m\u001b[0;34m(\u001b[0m\u001b[0mself\u001b[0m\u001b[0;34m.\u001b[0m\u001b[0m_deserialize\u001b[0m\u001b[0;34m,\u001b[0m \u001b[0mresponse\u001b[0m\u001b[0;34m)\u001b[0m\u001b[0;34m\u001b[0m\u001b[0;34m\u001b[0m\u001b[0m\n\u001b[0m\u001b[1;32m   2523\u001b[0m \u001b[0;34m\u001b[0m\u001b[0m\n\u001b[1;32m   2524\u001b[0m         \u001b[0mdeserialized\u001b[0m \u001b[0;34m=\u001b[0m \u001b[0;32mNone\u001b[0m\u001b[0;34m\u001b[0m\u001b[0;34m\u001b[0m\u001b[0m\n",
            "\u001b[0;31mCustomVisionErrorException\u001b[0m: Invalid prediction resource id"
          ]
        }
      ],
      "execution_count": 12,
      "metadata": {
        "gather": {
          "logged": 1652237997640
        }
      }
    }
  ],
  "metadata": {
    "orig_nbformat": 4,
    "language_info": {
      "name": "python",
      "version": "3.8.5",
      "mimetype": "text/x-python",
      "codemirror_mode": {
        "name": "ipython",
        "version": 3
      },
      "pygments_lexer": "ipython3",
      "nbconvert_exporter": "python",
      "file_extension": ".py"
    },
    "kernelspec": {
      "name": "python38-azureml",
      "language": "python",
      "display_name": "Python 3.8 - AzureML"
    },
    "interpreter": {
      "hash": "cd6c2d5b6def59a78dd4f60b7bebd73224da0fafd12459c3daf7ca8dc9395e3f"
    },
    "kernel_info": {
      "name": "python38-azureml"
    },
    "nteract": {
      "version": "nteract-front-end@1.0.0"
    }
  },
  "nbformat": 4,
  "nbformat_minor": 2
}