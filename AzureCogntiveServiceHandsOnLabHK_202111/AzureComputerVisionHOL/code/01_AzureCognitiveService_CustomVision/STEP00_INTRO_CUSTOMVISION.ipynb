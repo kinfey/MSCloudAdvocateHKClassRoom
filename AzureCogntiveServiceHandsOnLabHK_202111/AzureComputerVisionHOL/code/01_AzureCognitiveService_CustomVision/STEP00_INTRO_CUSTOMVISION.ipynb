{
 "cells": [
  {
   "cell_type": "markdown",
   "metadata": {},
   "source": [
    "<h1><b>關於CustomVision</b></h1>\n",
    "\n",
    "### **微軟的認知服務接口，讓你在零機器學習的知識下，用不同的編程語言完成相關的機器學習工作**\n",
    "\n",
    "### **CustomVision 更進一步，讓你在沒有編程技術下，完成圖像識別和識別識別的工作，他是一個零代碼解決方案，你只需要操作圖片集就可以完成工作了，對比 起情感服務，你還可以直接導出訓練模型，直接展開到不同的場景上**\n",
    "\n",
    "<b>輸入以下地址可以進入customvision <a href=\"https://www.customvision.ai/\">https://www.customvision.ai/</a><font style=\"color:Red\"> (使用Custom你需要有Azure賬戶，如果沒有可以參考本次實驗OCR部分開通)</font></b>"
   ]
  },
  {
   "cell_type": "markdown",
   "metadata": {},
   "source": [
    "## **通過低代碼方式完成的相關步驟**\n",
    "\n",
    "### **1。 Azure Portal 通過添加資源組，從AI+機器學習創建自定義視覺**\n",
    "\n",
    "<img src=\"./img/002.png\"/><br/><br/>\n",
    "<img src=\"./img/003.png\"/>"
   ]
  },
  {
   "cell_type": "markdown",
   "metadata": {},
   "source": [
    "### **2。 打開Custom Vision網站，登錄進入Custom Vision門戶** ###\n",
    "<img src=\"./img/004.png\"/>"
   ]
  },
  {
   "cell_type": "markdown",
   "metadata": {},
   "source": [
    "### **3。 點擊New Project創建你的計算機視覺項目** ###\n",
    "\n",
    "<img src=\"./img/005.png\"/>"
   ]
  },
  {
   "cell_type": "markdown",
   "metadata": {},
   "source": [
    "### **自定義視覺支持圖像分類和實體識別，你可以根據自己的需要選擇，這裡選擇圖像分類（分類）** ###\n",
    "\n",
    "### **選擇識別多類型單標籤(Single tag per image)** ###\n",
    "\n",
    "###**建議選擇General(compact)，這種支持多種模型類型的輸出，如TensorFlow、ONNX、CoreML等，適應部署到不同的終端**###\n",
    "\n"
   ]
  },
  {
   "cell_type": "markdown",
   "metadata": {},
   "source": [
    "### **4.創建好後進入項目，並添加你需要分類的標籤，這裡針對bb8,c3po,r2d2三個標籤（你可以通過項目的圖片標籤上傳對應圖片），並針對標籤上傳基礎圖片 數據** ####\n",
    "\n",
    "<img src=\"./img/006.png\"/><br/><br/>\n",
    "<img src=\"./img/007.png\"/><br/><br/>"
   ]
  },
  {
   "cell_type": "markdown",
   "metadata": {},
   "source": [
    "###**5.上傳好後，就可以按訓練按鈕進行訓練，選擇快速訓練**###"
   ]
  },
  {
   "cell_type": "markdown",
   "metadata": {},
   "source": [
    "### **6。 稍等片刻，你就可以完成相關的訓練** ####\n",
    "\n",
    "<img src=\"./img/010.png\">"
   ]
  },
  {
   "cell_type": "markdown",
   "metadata": {},
   "source": [
    "### **7.你可以通過出口方式導出你所需要的離線模型** ###\n",
    "\n",
    "<img src=\"./img/011.png\"/>"
   ]
  },
  {
   "cell_type": "markdown",
   "metadata": {},
   "source": [
    "### **8. 你可以通過快速測試完成測試** ###\n",
    "\n",
    "<img src=\"./img/012.png\"/>"
   ]
  },
  {
   "cell_type": "markdown",
   "metadata": {},
   "source": [
    "<h1 style=\"color:Red\">你現在一行代碼都沒有寫過，哈哈做計算機視覺也不是難</h1>"
   ]
  }
 ],
 "metadata": {
  "language_info": {
   "name": "python"
  },
  "orig_nbformat": 4
 },
 "nbformat": 4,
 "nbformat_minor": 2
}
