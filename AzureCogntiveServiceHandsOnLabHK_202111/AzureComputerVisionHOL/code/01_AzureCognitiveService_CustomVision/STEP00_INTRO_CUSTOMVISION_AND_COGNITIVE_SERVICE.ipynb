{
 "cells": [
  {
   "cell_type": "markdown",
   "metadata": {},
   "source": [
    "# **關於Azure Cognitive Service案例** #\n",
    "\n",
    "**通過STEP0_INTRO_CUSTOMVISION學習你方式個性化的計算機視覺的低代碼完成相關的計算機視覺工作，結合本次課程我們學習到感知服務打通機器學習的最後一公里**\n",
    "\n",
    "**下游的STEP01-03就是一個完整的案例**\n",
    "\n",
    "**從數據採集到數據整理再到訓練，一個完整的流程，希望大家有進一步的了解**"
   ]
  },
  {
   "cell_type": "markdown",
   "metadata": {},
   "source": [
    "## **圖像搜索 API v7** ##\n",
    "\n",
    "**BingSearch API 為您的程序添加智能搜索，將應用數十個網頁、圖片、視頻和組合，提供無廣告的相關結果。結果可以根據用戶的位置或市場自動定制，通過保持本地化來增加相關性。它包括5個功能：**\n",
    "\n",
    "**Bing 圖像搜索** - 搜索圖像並獲得全面的結果。幫助用戶在網絡上搜索圖像。結果包括網站、完整圖像 URL、發布信息、圖像元數據等。\n",
    "\n",
    "**必應新聞搜索** - 搜索新聞並獲得全面的結果。在網絡上搜索新聞文章。結果包括新聞文章的主要圖像、相關新聞和類別、信息、文章網址和添加日期等詳細信息。\n",
    "\n",
    "**Bing 視頻搜索** - 搜索視頻並獲得全面的結果。在網絡上查找視頻。結果提供專業的元數據，包括創建者、編碼格式、視頻長度、觀看次數等。\n",
    "\n",
    "**Bing Visual Search** - Bing Visual Search 可在調用中提供 Bing 的所有智能圖像理解功能，使開發人員能夠在選擇的設備上構建他們的圖像應用程序。解釋視覺內容以查找相關產品或圖像、閱讀文件、識別識別、查找圖像或識別流行的商品、標誌、名人和常見的形象。\n",
    "\n",
    "**Bing Web Search** - 從細節十個 Web 文檔中獲取增益的搜索詳細信息。檢索由 Bing 索引的 Web 文檔，並按結果類型、新鮮度等縮小結果範圍。"
   ]
  },
  {
   "cell_type": "markdown",
   "metadata": {},
   "source": [
    "通過Azure Portal創建Bing Search V7服務，為圖像識別識別相關圖片\n",
    "\n",
    "<img src='./img/013.png'/>"
   ]
  },
  {
   "cell_type": "markdown",
   "metadata": {},
   "source": [
    "下載後的圖片，會在下載對應的文件夾下，需要調整好大小，和相關的數據，大家可以看STEP2_RESIZE_IMAGE"
   ]
  },
  {
   "cell_type": "markdown",
   "metadata": {},
   "source": [
    "## **通過Python代碼控制CustomVision** ##\n",
    "\n",
    "這裡需要綁定相關的endpoint,key,resourceID去調用CustomVISion\n",
    "\n",
    "<img src='./img/014.png'>\n",
    "\n",
    "<h2>具體請參考STEP03_CUSTOMVISION</h2>"
   ]
  }
 ],
 "metadata": {
  "language_info": {
   "name": "python"
  },
  "orig_nbformat": 4
 },
 "nbformat": 4,
 "nbformat_minor": 2
}
