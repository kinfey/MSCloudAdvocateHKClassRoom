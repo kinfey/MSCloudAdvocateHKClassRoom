{
 "cells": [
  {
   "cell_type": "markdown",
   "metadata": {},
   "source": [
    "# **Azure 機器學習服務** #\n",
    "\n",
    "**看看我們傳統的人工智能開發**\n",
    "\n",
    "<img src=\"./img/001.png\"/>\n",
    "\n",
    "**機器，學習從數據開始，經歷數據整理，模型訓練，傳播，模型部署等不斷迭代的過程，Azure Machine Learning 服務就是為整個機器學習的生命週期開發而，通過Azure Machine Learning Service 為你提供 舒適的機器學習開發環境**\n",
    "\n",
    "<img src=\"./img/002.png\"/>"
   ]
  },
  {
   "cell_type": "markdown",
   "metadata": {},
   "source": [
    "通過<a href=\"https://ml.azure.com/\">https://ml.azure.com/</a>你可以進入Azure機器學習門戶\n",
    "\n",
    "<img src=\"./img/003.png\"/>"
   ]
  },
  {
   "cell_type": "markdown",
   "metadata": {},
   "source": [
    "如果你要創建一個 Azure 機器學習服務，需要在你的 Azure 門戶上創建一個機器學習服務，然後才能在 ml.azure.com 上開始使用 Azure 機器學習服務\n",
    "\n",
    "<img src=\"./img/004.png\"/>"
   ]
  },
  {
   "cell_type": "markdown",
   "metadata": {},
   "source": [
    "Azure機器學習提供了筆記本、自動化、和設計器，讓數據可以通過雲端完成相關的代碼調用，也可以讓團隊簡單地通過設計器拖拽的方式完成機器學習的流程設計並自動化生成代碼， 更厲害的是配合了業界很受歡迎的AutoML業務"
   ]
  },
  {
   "cell_type": "markdown",
   "metadata": {},
   "source": [
    "### **Notebook** ###\n",
    "\n",
    "<img src=\"./img/005.png\"/>"
   ]
  },
  {
   "cell_type": "markdown",
   "metadata": {},
   "source": [
    "### **AutoML** ###\n",
    "\n",
    "<img src=\"./img/008.png\"/><br/><br/>\n",
    "\n",
    "\n",
    "<img src=\"./img/006.png\"/>"
   ]
  },
  {
   "cell_type": "markdown",
   "metadata": {},
   "source": [
    "###**機器學習設計器**###\n",
    "\n",
    "你像做Windows應用一樣通過拖拽方式完成機器學習的工作，並為你自動讓生成代碼\n",
    "\n",
    "<img src=\"./img/007.png\" />"
   ]
  },
  {
   "cell_type": "markdown",
   "metadata": {},
   "source": [
    "## **Azure 機器學習服務** ##\n",
    "\n",
    "<img src=\"./img/009.png\" />"
   ]
  },
  {
   "cell_type": "markdown",
   "metadata": {},
   "source": [
    "ComputerVision_Notebook為你展示了通過Azure Machine Learning完成機器學習的完整流程如果你有興趣，可以看看，如果你在本地運行，別忘記去Azure Portal下載config.json到工作文件夾"
   ]
  }
 ],
 "metadata": {
  "language_info": {
   "name": "python"
  },
  "orig_nbformat": 4
 },
 "nbformat": 4,
 "nbformat_minor": 2
}
