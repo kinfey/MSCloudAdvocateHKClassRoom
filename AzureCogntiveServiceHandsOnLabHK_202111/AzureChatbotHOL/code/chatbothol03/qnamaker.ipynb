{
 "cells": [
  {
   "cell_type": "code",
   "execution_count": 1,
   "metadata": {},
   "outputs": [
    {
     "name": "stdout",
     "output_type": "stream",
     "text": [
      "Requirement already satisfied: requests in /usr/local/Caskroom/miniforge/base/envs/pydev/lib/python3.8/site-packages (2.25.1)\n",
      "Requirement already satisfied: certifi>=2017.4.17 in /usr/local/Caskroom/miniforge/base/envs/pydev/lib/python3.8/site-packages (from requests) (2021.10.8)\n",
      "Requirement already satisfied: idna<3,>=2.5 in /usr/local/Caskroom/miniforge/base/envs/pydev/lib/python3.8/site-packages (from requests) (2.10)\n",
      "Requirement already satisfied: chardet<5,>=3.0.2 in /usr/local/Caskroom/miniforge/base/envs/pydev/lib/python3.8/site-packages (from requests) (4.0.0)\n",
      "Requirement already satisfied: urllib3<1.27,>=1.21.1 in /usr/local/Caskroom/miniforge/base/envs/pydev/lib/python3.8/site-packages (from requests) (1.26.7)\n"
     ]
    }
   ],
   "source": [
    "! pip3 install requests"
   ]
  },
  {
   "cell_type": "code",
   "execution_count": 2,
   "metadata": {},
   "outputs": [],
   "source": [
    "import requests\n",
    "import json"
   ]
  },
  {
   "cell_type": "code",
   "execution_count": 3,
   "metadata": {},
   "outputs": [],
   "source": [
    "def get_answer_covid19(getanswer_url, body):\n",
    "    headers = {\n",
    "        # Request headers\n",
    "        'Content-Type': 'application/json',\n",
    "        'Authorization': '你的End PointKey'   \n",
    "    }\n",
    "    url = getanswer_url\n",
    "    response = requests.request(\"POST\", url, data = body, headers=headers)\n",
    "    response_text = json.loads(response.text)\n",
    "    print(response_text['answers'][0]['answer'])"
   ]
  },
  {
   "cell_type": "code",
   "execution_count": 5,
   "metadata": {},
   "outputs": [
    {
     "name": "stdout",
     "output_type": "stream",
     "text": [
      "In most situations, a molecular test is used to detect SARS-CoV-2 and confirm infection. Polymerase chain reaction (PCR) is the most commonly used molecular test. Samples are collected from the nose and/or throat with a swab. Molecular tests detect virus in the sample by amplifying viral genetic material to detectable levels. For this reason, a molecular test is used to confirm an active infection, usually within a few days of exposure and around the time that symptoms may begin. \n",
      "\n",
      "[Learn more about what kind of COVID-19 tests are available](https://www.who.int/emergencies/diseases/novel-coronavirus-2019/media-resources/science-in-5/episode-14---covid-19---tests)\n"
     ]
    }
   ],
   "source": [
    "getanswer_url = 'Host+POST URL'  \n",
    "question_sentence = {\n",
    "    \"question\":\"test covid-19\" \n",
    "    }\n",
    "question_sentence_json = json.dumps(question_sentence)\n",
    "get_answer_covid19(getanswer_url, question_sentence_json)"
   ]
  }
 ],
 "metadata": {
  "interpreter": {
   "hash": "eec8323f1fd0687cc16c170f83e009bfe267a929289f6367d1c75a585500211d"
  },
  "kernelspec": {
   "display_name": "Python 3.8.10 64-bit ('pydev': conda)",
   "language": "python",
   "name": "python3"
  },
  "language_info": {
   "codemirror_mode": {
    "name": "ipython",
    "version": 3
   },
   "file_extension": ".py",
   "mimetype": "text/x-python",
   "name": "python",
   "nbconvert_exporter": "python",
   "pygments_lexer": "ipython3",
   "version": "3.8.10"
  },
  "orig_nbformat": 4
 },
 "nbformat": 4,
 "nbformat_minor": 2
}
