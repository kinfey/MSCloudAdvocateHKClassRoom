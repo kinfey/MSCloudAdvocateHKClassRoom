{
  "cells": [
    {
      "cell_type": "code",
      "execution_count": 1,
      "metadata": {},
      "outputs": [],
      "source": [
        "%matplotlib inline"
      ]
    },
    {
      "cell_type": "markdown",
      "metadata": {},
      "source": [
        "## 處理數據\n",
        "PyTorch 有兩個[處理數據的原語](https://pytorch.org/docs/stable/data.html)：“torch.utils.data.DataLoader”和“torch.utils.data.Dataset” `. ``Dataset`` 存儲樣本及其相應的標籤，``DataLoader`` 圍繞 ``Dataset`` 包裝一個可迭代對象。\n",
        "\n"
      ]
    },
    {
      "cell_type": "code",
      "execution_count": 2,
      "metadata": {},
      "outputs": [],
      "source": [
        "import torch\n",
        "from torch import nn\n",
        "from torch.utils.data import DataLoader\n",
        "from torchvision import datasets\n",
        "from torchvision.transforms import ToTensor, Lambda, Compose\n",
        "import matplotlib.pyplot as plt"
      ]
    },
    {
      "cell_type": "markdown",
      "metadata": {},
      "source": [
        "PyTorch 提供特定領域的庫，例如 [TorchText](https://pytorch.org/text/stable/index.html)、[TorchVision](https://pytorch.org/vision/stable/index.html)、 和 [TorchAudio](https://pytorch.org/audio/stable/index.html)，所有這些都包含數據集。在本教程中，我們將使用 TorchVision 數據集。\n",
        "\n",
        "``torchvision.datasets`` 模塊包含許多真實世界視覺數據的 ``Dataset`` 對象，例如 CIFAR、COCO（[完整列表在這裡]（https://pytorch.org/docs/stable/torchvision/datasets. html))。在本教程中，我們將使用 **FashionMNIST** 數據集。每個 TorchVision ``Dataset`` 包括兩個參數：``transform`` 和 ``target_transform`` 分別用於修改樣本和標籤。\n",
        "\n"
      ]
    },
    {
      "cell_type": "code",
      "execution_count": 3,
      "metadata": {},
      "outputs": [],
      "source": [
        "# Download training data from open datasets.\n",
        "training_data = datasets.FashionMNIST(\n",
        "    root=\"data\",\n",
        "    train=True,\n",
        "    download=True,\n",
        "    transform=ToTensor(),\n",
        ")\n",
        "\n",
        "# Download test data from open datasets.\n",
        "test_data = datasets.FashionMNIST(\n",
        "    root=\"data\",\n",
        "    train=False,\n",
        "    download=True,\n",
        "    transform=ToTensor(),\n",
        ")"
      ]
    },
    {
      "cell_type": "markdown",
      "metadata": {},
      "source": [
        "我們將“Dataset”作為參數傳遞給“DataLoader”。這在我們的數據集上包裝了一個迭代，並支持自動批處理、採樣、混洗和多進程數據加載。這裡我們定義了 64 的批量大小，即數據加載器迭代中的每個元素將返回一批 64 個特徵和標籤。\n",
        "\n"
      ]
    },
    {
      "cell_type": "code",
      "execution_count": 4,
      "metadata": {},
      "outputs": [
        {
          "name": "stdout",
          "output_type": "stream",
          "text": [
            "Shape of X [N, C, H, W]:  torch.Size([64, 1, 28, 28])\n",
            "Shape of y:  torch.Size([64]) torch.int64\n"
          ]
        }
      ],
      "source": [
        "batch_size = 64\n",
        "\n",
        "# Create data loaders.\n",
        "train_dataloader = DataLoader(training_data, batch_size=batch_size)\n",
        "test_dataloader = DataLoader(test_data, batch_size=batch_size)\n",
        "\n",
        "for X, y in test_dataloader:\n",
        "    print(\"Shape of X [N, C, H, W]: \", X.shape)\n",
        "    print(\"Shape of y: \", y.shape, y.dtype)\n",
        "    break"
      ]
    },
    {
      "cell_type": "markdown",
      "metadata": {},
      "source": [
        "## 創建模型\n",
        "為了在 PyTorch 中定義神經網絡，我們創建了一個繼承自 [nn.Module](https://pytorch.org/docs/stable/generated/torch.nn.Module.html) 的類。我們在 __init__ 函數中定義網絡層，並在 forward 函數中指定數據如何通過網絡。為了加速神經網絡中的操作，我們將其移至 GPU（如果可用）。\n"
      ]
    },
    {
      "cell_type": "code",
      "execution_count": 5,
      "metadata": {},
      "outputs": [
        {
          "name": "stdout",
          "output_type": "stream",
          "text": [
            "Using cpu device\n",
            "NeuralNetwork(\n",
            "  (flatten): Flatten()\n",
            "  (linear_relu_stack): Sequential(\n",
            "    (0): Linear(in_features=784, out_features=512, bias=True)\n",
            "    (1): ReLU()\n",
            "    (2): Linear(in_features=512, out_features=512, bias=True)\n",
            "    (3): ReLU()\n",
            "    (4): Linear(in_features=512, out_features=10, bias=True)\n",
            "    (5): ReLU()\n",
            "  )\n",
            ")\n"
          ]
        }
      ],
      "source": [
        "# Get cpu or gpu device for training.\n",
        "device = \"cuda\" if torch.cuda.is_available() else \"cpu\"\n",
        "print(\"Using {} device\".format(device))\n",
        "\n",
        "# Define model\n",
        "class NeuralNetwork(nn.Module):\n",
        "    def __init__(self):\n",
        "        super(NeuralNetwork, self).__init__()\n",
        "        self.flatten = nn.Flatten()\n",
        "        self.linear_relu_stack = nn.Sequential(\n",
        "            nn.Linear(28*28, 512),\n",
        "            nn.ReLU(),\n",
        "            nn.Linear(512, 512),\n",
        "            nn.ReLU(),\n",
        "            nn.Linear(512, 10),\n",
        "            nn.ReLU()\n",
        "        )\n",
        "\n",
        "    def forward(self, x):\n",
        "        x = self.flatten(x)\n",
        "        logits = self.linear_relu_stack(x)\n",
        "        return logits\n",
        "\n",
        "model = NeuralNetwork().to(device)\n",
        "print(model)"
      ]
    },
    {
      "cell_type": "markdown",
      "metadata": {},
      "source": [
        "## 優化模型參數\n",
        "為了訓練模型，我們需要一個[損失函數](https://pytorch.org/docs/stable/nn.html#loss-functions>)和一個[優化器](https://pytorch.org/docs/ 穩定/optim.html）。\n",
        "\n"
      ]
    },
    {
      "cell_type": "code",
      "execution_count": 6,
      "metadata": {},
      "outputs": [],
      "source": [
        "loss_fn = nn.CrossEntropyLoss()\n",
        "learning_rate = 1e-3\n",
        "optimizer = torch.optim.SGD(model.parameters(), lr=learning_rate)"
      ]
    },
    {
      "cell_type": "markdown",
      "metadata": {},
      "source": [
        "在單個訓練循環中，模型對訓練數據集進行預測（分批提供給它），並反向傳播預測誤差以調整模型的參數。\n"
      ]
    },
    {
      "cell_type": "code",
      "execution_count": 7,
      "metadata": {},
      "outputs": [],
      "source": [
        "def train(dataloader, model, loss_fn, optimizer):\n",
        "    size = len(dataloader.dataset)\n",
        "    for batch, (X, y) in enumerate(dataloader):\n",
        "        X, y = X.to(device), y.to(device)\n",
        "        \n",
        "        # Compute prediction error\n",
        "        pred = model(X)\n",
        "        loss = loss_fn(pred, y)\n",
        "        \n",
        "        # Backpropagation\n",
        "        optimizer.zero_grad()\n",
        "        loss.backward()\n",
        "        optimizer.step()\n",
        "\n",
        "        if batch % 100 == 0:\n",
        "            loss, current = loss.item(), batch * len(X)\n",
        "            print(f\"loss: {loss:>7f}  [{current:>5d}/{size:>5d}]\")"
      ]
    },
    {
      "cell_type": "markdown",
      "metadata": {},
      "source": [
        "我們還可以根據測試數據集檢查模型的性能，以確保它正在學習。"
      ]
    },
    {
      "cell_type": "code",
      "execution_count": 8,
      "metadata": {},
      "outputs": [],
      "source": [
        "def test(dataloader, model):\n",
        "    size = len(dataloader.dataset)\n",
        "    model.eval()\n",
        "    test_loss, correct = 0, 0\n",
        "    with torch.no_grad():\n",
        "        for X, y in dataloader:\n",
        "            X, y = X.to(device), y.to(device)\n",
        "            pred = model(X)\n",
        "            test_loss += loss_fn(pred, y).item()\n",
        "            correct += (pred.argmax(1) == y).type(torch.float).sum().item()\n",
        "    test_loss /= size\n",
        "    correct /= size\n",
        "    print(f\"Test Error: \\n Accuracy: {(100*correct):>0.1f}%, Avg loss: {test_loss:>8f} \\n\")"
      ]
    },
    {
      "cell_type": "markdown",
      "metadata": {},
      "source": [
        "訓練過程經過多次迭代（*epochs*）。在每個時期，模型學習參數以做出更好的預測。我們在每個時期打印模型的準確性和損失； 我們希望看到準確率隨著每個 epoch 的增加而減少。\n"
      ]
    },
    {
      "cell_type": "code",
      "execution_count": 9,
      "metadata": {},
      "outputs": [
        {
          "name": "stdout",
          "output_type": "stream",
          "text": [
            "Epoch 1\n",
            "-------------------------------\n",
            "loss: 2.296623  [    0/60000]\n",
            "loss: 2.285579  [ 6400/60000]\n",
            "loss: 2.278996  [12800/60000]\n",
            "loss: 2.284463  [19200/60000]\n",
            "loss: 2.248519  [25600/60000]\n",
            "loss: 2.252007  [32000/60000]\n",
            "loss: 2.245880  [38400/60000]\n",
            "loss: 2.221477  [44800/60000]\n",
            "loss: 2.228522  [51200/60000]\n",
            "loss: 2.236195  [57600/60000]\n",
            "Test Error: \n",
            " Accuracy: 44.4%, Avg loss: 0.034614 \n",
            "\n",
            "Epoch 2\n",
            "-------------------------------\n",
            "loss: 2.198896  [    0/60000]\n",
            "loss: 2.187073  [ 6400/60000]\n",
            "loss: 2.159790  [12800/60000]\n",
            "loss: 2.200235  [19200/60000]\n",
            "loss: 2.109188  [25600/60000]\n",
            "loss: 2.130098  [32000/60000]\n",
            "loss: 2.125274  [38400/60000]\n",
            "loss: 2.067611  [44800/60000]\n",
            "loss: 2.102955  [51200/60000]\n",
            "loss: 2.128738  [57600/60000]\n",
            "Test Error: \n",
            " Accuracy: 43.5%, Avg loss: 0.032211 \n",
            "\n",
            "Epoch 3\n",
            "-------------------------------\n",
            "loss: 2.043877  [    0/60000]\n",
            "loss: 2.020211  [ 6400/60000]\n",
            "loss: 1.954821  [12800/60000]\n",
            "loss: 2.050785  [19200/60000]\n",
            "loss: 1.881543  [25600/60000]\n",
            "loss: 1.941283  [32000/60000]\n",
            "loss: 1.934656  [38400/60000]\n",
            "loss: 1.836007  [44800/60000]\n",
            "loss: 1.923398  [51200/60000]\n",
            "loss: 1.990946  [57600/60000]\n",
            "Test Error: \n",
            " Accuracy: 48.3%, Avg loss: 0.028911 \n",
            "\n",
            "Epoch 4\n",
            "-------------------------------\n",
            "loss: 1.829984  [    0/60000]\n",
            "loss: 1.802064  [ 6400/60000]\n",
            "loss: 1.696085  [12800/60000]\n",
            "loss: 1.867662  [19200/60000]\n",
            "loss: 1.648678  [25600/60000]\n",
            "loss: 1.758452  [32000/60000]\n",
            "loss: 1.744883  [38400/60000]\n",
            "loss: 1.625862  [44800/60000]\n",
            "loss: 1.759308  [51200/60000]\n",
            "loss: 1.886091  [57600/60000]\n",
            "Test Error: \n",
            " Accuracy: 53.8%, Avg loss: 0.026152 \n",
            "\n",
            "Epoch 5\n",
            "-------------------------------\n",
            "loss: 1.644344  [    0/60000]\n",
            "loss: 1.625501  [ 6400/60000]\n",
            "loss: 1.495613  [12800/60000]\n",
            "loss: 1.733075  [19200/60000]\n",
            "loss: 1.487389  [25600/60000]\n",
            "loss: 1.636804  [32000/60000]\n",
            "loss: 1.611764  [38400/60000]\n",
            "loss: 1.491945  [44800/60000]\n",
            "loss: 1.643457  [51200/60000]\n",
            "loss: 1.817311  [57600/60000]\n",
            "Test Error: \n",
            " Accuracy: 56.8%, Avg loss: 0.024314 \n",
            "\n",
            "Epoch 6\n",
            "-------------------------------\n",
            "loss: 1.514058  [    0/60000]\n",
            "loss: 1.506620  [ 6400/60000]\n",
            "loss: 1.362286  [12800/60000]\n",
            "loss: 1.641234  [19200/60000]\n",
            "loss: 1.379353  [25600/60000]\n",
            "loss: 1.551801  [32000/60000]\n",
            "loss: 1.520614  [38400/60000]\n",
            "loss: 1.404916  [44800/60000]\n",
            "loss: 1.558761  [51200/60000]\n",
            "loss: 1.758175  [57600/60000]\n",
            "Test Error: \n",
            " Accuracy: 58.6%, Avg loss: 0.022979 \n",
            "\n",
            "Epoch 7\n",
            "-------------------------------\n",
            "loss: 1.420903  [    0/60000]\n",
            "loss: 1.422738  [ 6400/60000]\n",
            "loss: 1.266399  [12800/60000]\n",
            "loss: 1.570417  [19200/60000]\n",
            "loss: 1.301671  [25600/60000]\n",
            "loss: 1.484532  [32000/60000]\n",
            "loss: 1.454288  [38400/60000]\n",
            "loss: 1.344490  [44800/60000]\n",
            "loss: 1.494017  [51200/60000]\n",
            "loss: 1.706307  [57600/60000]\n",
            "Test Error: \n",
            " Accuracy: 59.7%, Avg loss: 0.021950 \n",
            "\n",
            "Epoch 8\n",
            "-------------------------------\n",
            "loss: 1.349375  [    0/60000]\n",
            "loss: 1.359760  [ 6400/60000]\n",
            "loss: 1.193477  [12800/60000]\n",
            "loss: 1.513091  [19200/60000]\n",
            "loss: 1.242682  [25600/60000]\n",
            "loss: 1.430325  [32000/60000]\n",
            "loss: 1.403373  [38400/60000]\n",
            "loss: 1.299505  [44800/60000]\n",
            "loss: 1.441861  [51200/60000]\n",
            "loss: 1.662539  [57600/60000]\n",
            "Test Error: \n",
            " Accuracy: 60.4%, Avg loss: 0.021143 \n",
            "\n",
            "Epoch 9\n",
            "-------------------------------\n",
            "loss: 1.292446  [    0/60000]\n",
            "loss: 1.310542  [ 6400/60000]\n",
            "loss: 1.136238  [12800/60000]\n",
            "loss: 1.467202  [19200/60000]\n",
            "loss: 1.196984  [25600/60000]\n",
            "loss: 1.386170  [32000/60000]\n",
            "loss: 1.363159  [38400/60000]\n",
            "loss: 1.265603  [44800/60000]\n",
            "loss: 1.401562  [51200/60000]\n",
            "loss: 1.625617  [57600/60000]\n",
            "Test Error: \n",
            " Accuracy: 61.0%, Avg loss: 0.020503 \n",
            "\n",
            "Epoch 10\n",
            "-------------------------------\n",
            "loss: 1.246132  [    0/60000]\n",
            "loss: 1.270306  [ 6400/60000]\n",
            "loss: 1.090414  [12800/60000]\n",
            "loss: 1.431088  [19200/60000]\n",
            "loss: 1.161029  [25600/60000]\n",
            "loss: 1.349418  [32000/60000]\n",
            "loss: 1.330890  [38400/60000]\n",
            "loss: 1.240929  [44800/60000]\n",
            "loss: 1.369554  [51200/60000]\n",
            "loss: 1.593983  [57600/60000]\n",
            "Test Error: \n",
            " Accuracy: 61.9%, Avg loss: 0.019990 \n",
            "\n",
            "Epoch 11\n",
            "-------------------------------\n",
            "loss: 1.207996  [    0/60000]\n",
            "loss: 1.236262  [ 6400/60000]\n",
            "loss: 1.053536  [12800/60000]\n",
            "loss: 1.402357  [19200/60000]\n",
            "loss: 1.132978  [25600/60000]\n",
            "loss: 1.319012  [32000/60000]\n",
            "loss: 1.304382  [38400/60000]\n",
            "loss: 1.221810  [44800/60000]\n",
            "loss: 1.342676  [51200/60000]\n",
            "loss: 1.567074  [57600/60000]\n",
            "Test Error: \n",
            " Accuracy: 62.5%, Avg loss: 0.019569 \n",
            "\n",
            "Epoch 12\n",
            "-------------------------------\n",
            "loss: 1.175817  [    0/60000]\n",
            "loss: 1.207468  [ 6400/60000]\n",
            "loss: 1.022537  [12800/60000]\n",
            "loss: 1.378161  [19200/60000]\n",
            "loss: 1.111023  [25600/60000]\n",
            "loss: 1.293188  [32000/60000]\n",
            "loss: 1.282458  [38400/60000]\n",
            "loss: 1.206252  [44800/60000]\n",
            "loss: 1.318999  [51200/60000]\n",
            "loss: 1.543558  [57600/60000]\n",
            "Test Error: \n",
            " Accuracy: 63.2%, Avg loss: 0.019209 \n",
            "\n",
            "Epoch 13\n",
            "-------------------------------\n",
            "loss: 1.147279  [    0/60000]\n",
            "loss: 1.182252  [ 6400/60000]\n",
            "loss: 0.995176  [12800/60000]\n",
            "loss: 1.357876  [19200/60000]\n",
            "loss: 1.092754  [25600/60000]\n",
            "loss: 1.271151  [32000/60000]\n",
            "loss: 1.263242  [38400/60000]\n",
            "loss: 1.192253  [44800/60000]\n",
            "loss: 1.297286  [51200/60000]\n",
            "loss: 1.522330  [57600/60000]\n",
            "Test Error: \n",
            " Accuracy: 63.9%, Avg loss: 0.018889 \n",
            "\n",
            "Epoch 14\n",
            "-------------------------------\n",
            "loss: 1.121026  [    0/60000]\n",
            "loss: 1.159719  [ 6400/60000]\n",
            "loss: 0.970348  [12800/60000]\n",
            "loss: 1.340222  [19200/60000]\n",
            "loss: 1.076702  [25600/60000]\n",
            "loss: 1.251156  [32000/60000]\n",
            "loss: 1.245674  [38400/60000]\n",
            "loss: 1.179576  [44800/60000]\n",
            "loss: 1.277391  [51200/60000]\n",
            "loss: 1.503124  [57600/60000]\n",
            "Test Error: \n",
            " Accuracy: 64.6%, Avg loss: 0.018596 \n",
            "\n",
            "Epoch 15\n",
            "-------------------------------\n",
            "loss: 1.096044  [    0/60000]\n",
            "loss: 1.139009  [ 6400/60000]\n",
            "loss: 0.947427  [12800/60000]\n",
            "loss: 1.324286  [19200/60000]\n",
            "loss: 1.062446  [25600/60000]\n",
            "loss: 1.232802  [32000/60000]\n",
            "loss: 1.229367  [38400/60000]\n",
            "loss: 1.167315  [44800/60000]\n",
            "loss: 1.258510  [51200/60000]\n",
            "loss: 1.485662  [57600/60000]\n",
            "Test Error: \n",
            " Accuracy: 65.0%, Avg loss: 0.018324 \n",
            "\n",
            "Done!\n"
          ]
        }
      ],
      "source": [
        "epochs = 15\n",
        "for t in range(epochs):\n",
        "    print(f\"Epoch {t+1}\\n-------------------------------\")\n",
        "    train(train_dataloader, model, loss_fn, optimizer)\n",
        "    test(test_dataloader, model)\n",
        "print(\"Done!\")"
      ]
    },
    {
      "cell_type": "markdown",
      "metadata": {},
      "source": [
        "最初的準確性不會很好（沒關係！）。嘗試運行循環以獲得更多的“epochs”或將“learning_rate”調整為更大的數字。也可能是我們選擇的模型配置可能不是此類問題的最佳配置（事實並非如此）。後面的課程將深入研究適用於視力問題的模型形狀。"
      ]
    },
    {
      "cell_type": "markdown",
      "metadata": {},
      "source": [
        "保存模型\n",
        "-------------\n",
        "保存模型的常用方法是序列化內部狀態字典（包含模型參數）。\n",
        "\n"
      ]
    },
    {
      "cell_type": "code",
      "execution_count": 10,
      "metadata": {},
      "outputs": [
        {
          "name": "stdout",
          "output_type": "stream",
          "text": [
            "Saved PyTorch Model State to model.pth\n"
          ]
        }
      ],
      "source": [
        "torch.save(model.state_dict(), \"data/model.pth\")\n",
        "print(\"Saved PyTorch Model State to model.pth\")"
      ]
    },
    {
      "cell_type": "markdown",
      "metadata": {},
      "source": [
        "加載模型\n",
        "-----------------------------\n",
        "\n",
        "加載模型的過程包括重新創建模型結構和加載\n",
        "將狀態字典放入其中。\n",
        "\n"
      ]
    },
    {
      "cell_type": "code",
      "execution_count": 11,
      "metadata": {},
      "outputs": [
        {
          "data": {
            "text/plain": [
              "<All keys matched successfully>"
            ]
          },
          "execution_count": 11,
          "metadata": {},
          "output_type": "execute_result"
        }
      ],
      "source": [
        "model = NeuralNetwork()\n",
        "model.load_state_dict(torch.load(\"data/model.pth\"))"
      ]
    },
    {
      "cell_type": "markdown",
      "metadata": {},
      "source": [
        "該模型現在可用於進行預測。\n",
        "\n"
      ]
    },
    {
      "cell_type": "code",
      "execution_count": 12,
      "metadata": {},
      "outputs": [
        {
          "name": "stdout",
          "output_type": "stream",
          "text": [
            "Predicted: \"Ankle boot\", Actual: \"Ankle boot\"\n"
          ]
        }
      ],
      "source": [
        "classes = [\n",
        "    \"T-shirt/top\",\n",
        "    \"Trouser\",\n",
        "    \"Pullover\",\n",
        "    \"Dress\",\n",
        "    \"Coat\",\n",
        "    \"Sandal\",\n",
        "    \"Shirt\",\n",
        "    \"Sneaker\",\n",
        "    \"Bag\",\n",
        "    \"Ankle boot\",\n",
        "]\n",
        "\n",
        "model.eval()\n",
        "x, y = test_data[0][0], test_data[0][1]\n",
        "with torch.no_grad():\n",
        "    pred = model(x)\n",
        "    predicted, actual = classes[pred[0].argmax(0)], classes[y]\n",
        "    print(f'Predicted: \"{predicted}\", Actual: \"{actual}\"')"
      ]
    }
  ],
  "metadata": {
    "interpreter": {
      "hash": "eec8323f1fd0687cc16c170f83e009bfe267a929289f6367d1c75a585500211d"
    },
    "kernelspec": {
      "display_name": "Python 3.8.10 64-bit ('pydev': conda)",
      "name": "python3"
    },
    "language_info": {
      "codemirror_mode": {
        "name": "ipython",
        "version": 3
      },
      "file_extension": ".py",
      "mimetype": "text/x-python",
      "name": "python",
      "nbconvert_exporter": "python",
      "pygments_lexer": "ipython3",
      "version": "3.8.10"
    },
    "nteract": {
      "version": "nteract-front-end@1.0.0"
    }
  },
  "nbformat": 4,
  "nbformat_minor": 1
}
