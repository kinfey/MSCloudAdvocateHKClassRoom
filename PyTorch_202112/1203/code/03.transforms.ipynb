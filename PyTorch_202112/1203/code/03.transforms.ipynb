{
  "cells": [
    {
      "cell_type": "code",
      "execution_count": 4,
      "metadata": {},
      "outputs": [],
      "source": [
        "%matplotlib inline"
      ]
    },
    {
      "cell_type": "markdown",
      "metadata": {},
      "source": [
        "# Transforms\n",
        "\n",
        "數據並不總是以其所需的最終處理形式出現\n",
        "訓練機器學習算法。我們使用 **transforms** 來執行一些\n",
        "處理數據並使其適合訓練。\n",
        "\n",
        "所有 TorchVision 數據集都有兩個參數（`transform` 以修改特徵和\n",
        "`target_transform` 修改標籤）接受包含轉換邏輯的可調用對象。\n",
        "[torchvision.transforms](https://pytorch.org/vision/stable/transforms.html) 模塊提供\n",
        "幾種常用的開箱即用轉換。\n",
        "\n",
        "FashionMNIST 特徵採用 PIL Image 格式，標籤為整數。\n",
        "對於訓練，我們需要將特徵作為歸一化張量，將標籤作為單熱編碼張量。\n",
        "為了進行這些轉換，我們使用了 `ToTensor` 和 `Lambda`。"
      ]
    },
    {
      "cell_type": "code",
      "execution_count": 5,
      "metadata": {},
      "outputs": [],
      "source": [
        "from torchvision import datasets\n",
        "from torchvision.transforms import ToTensor, Lambda\n",
        "\n",
        "ds = datasets.FashionMNIST(\n",
        "    root=\"data\",\n",
        "    train=True,\n",
        "    download=True,\n",
        "    transform=ToTensor(),\n",
        "    target_transform=Lambda(lambda y: torch.zeros(10, dtype=torch.float).scatter_(0, torch.tensor(y), value=1))\n",
        ")"
      ]
    },
    {
      "cell_type": "markdown",
      "metadata": {},
      "source": [
        "## ToTensor()\n",
        "\n",
        "[ToTensor](https://pytorch.org/vision/stable/transforms.html#torchvision.transforms.ToTensor)\n",
        "將 PIL 圖像或 NumPy `ndarray` 轉換為 `FloatTensor` 並在 \\[0., 1.\\] 範圍內縮放圖像的像素強度值\n",
        "\n",
        "## Lambda 變換\n",
        "\n",
        "Lambda 轉換適用於任何用戶定義的 lambda 函數。在這裡，我們定義一個函數\n",
        "將整數轉換為單熱編碼張量。\n",
        "它首先創建一個大小為 10（我們數據集中的標籤數量）的零張量並調用\n",
        "[scatter](https://pytorch.org/docs/stable/tensors.html#torch.Tensor.scatter_) 分配一個\n",
        "標籤“y”給出的索引上的“value=1”。"
      ]
    },
    {
      "cell_type": "code",
      "execution_count": 6,
      "metadata": {},
      "outputs": [],
      "source": [
        "target_transform = Lambda(lambda y: torch.zeros(\n",
        "    10, dtype=torch.float).scatter_(dim=0, index=torch.tensor(y), value=1))"
      ]
    },
    {
      "cell_type": "markdown",
      "metadata": {},
      "source": [
        "--------------\n",
        "\n",
        "\n"
      ]
    },
    {
      "cell_type": "code",
      "execution_count": 7,
      "metadata": {},
      "outputs": [
        {
          "name": "stdout",
          "output_type": "stream",
          "text": [
            "Lambda()\n"
          ]
        }
      ],
      "source": [
        "print(target_transform)"
      ]
    }
  ],
  "metadata": {
    "interpreter": {
      "hash": "eec8323f1fd0687cc16c170f83e009bfe267a929289f6367d1c75a585500211d"
    },
    "kernel_info": {
      "name": "conda-env-py37_pytorch-py"
    },
    "kernelspec": {
      "display_name": "Python 3.8.10 64-bit ('pydev': conda)",
      "name": "python3"
    },
    "language_info": {
      "codemirror_mode": {
        "name": "ipython",
        "version": 3
      },
      "file_extension": ".py",
      "mimetype": "text/x-python",
      "name": "python",
      "nbconvert_exporter": "python",
      "pygments_lexer": "ipython3",
      "version": "3.8.10"
    },
    "nteract": {
      "version": "nteract-front-end@1.0.0"
    }
  },
  "nbformat": 4,
  "nbformat_minor": 1
}
